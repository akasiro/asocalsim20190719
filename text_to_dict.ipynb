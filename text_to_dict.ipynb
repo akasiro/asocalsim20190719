{
 "cells": [
  {
   "cell_type": "code",
   "execution_count": null,
   "metadata": {},
   "outputs": [],
   "source": [
    "import pandas as pd\n",
    "import sqlite3,os,re,jieba,pickle,joblib"
   ]
  },
  {
   "cell_type": "code",
   "execution_count": null,
   "metadata": {},
   "outputs": [],
   "source": [
    "with open('stopwords.txt','r',encoding = 'utf-8') as f:\n",
    "    stopwords = f.read()\n",
    "stopwords = stopwords.split('\\n')"
   ]
  },
  {
   "cell_type": "code",
   "execution_count": null,
   "metadata": {},
   "outputs": [],
   "source": [
    "# 处理字符串函数\n",
    "def clean_text(text):\n",
    "    temp = re.sub(r'[^\\u4e00-\\u9fa5]','',text) # 删除非中文字符\n",
    "    temp = jieba.lcut(temp) # jieba分词\n",
    "    temp = [i for i in temp if i not in stopwords] # 删除停止词\n",
    "    return temp\n",
    "# 测试函数\n",
    "test1 = '''\n",
    "import re\n",
    "cop = re.compile(\"[^\\u4e00-\\u9fa5^a-z^A-Z^0-9]\") # 匹配不是中文、大小写、数字的其他字符\n",
    "string1 = '@ad&*jfad张132（www）。。。'\n",
    "string1 = cop.sub('', string1) #将string1中匹配到的字符替换成空字符'''\n",
    "print(clean_text(test1))\n",
    "test2 = ''\n",
    "print(clean_text(test2))\n",
    "\n",
    "# pickle保存(这个没法存储大数据)\n",
    "def save_obj(obj, name ):\n",
    "    with open( name + '.pkl', 'wb') as f:\n",
    "        pickle.dump(obj, f, pickle.HIGHEST_PROTOCOL)\n",
    "\n",
    "def load_obj(name ):\n",
    "    with open(name + '.pkl', 'rb') as f:\n",
    "        return pickle.load(f)\n",
    "# 测试函数\n",
    "test3 = {'a':2}\n",
    "save_obj(test3, 'test3')\n",
    "print(load_obj('test3'))\n",
    "\n",
    "# joblib 保存可以存储大数据\n",
    "def save_joblib(obj,name):\n",
    "    with open(name+'.pkl','wb') as f:\n",
    "        joblib.dump(obj,f)\n",
    "def load_joblib(name):\n",
    "    with open(name+'.pkl','rb') as f:\n",
    "        return joblib.load(f)\n",
    "# 测试函数\n",
    "test4 = {'b':10}\n",
    "save_joblib(test4,'test4')\n",
    "print(load_obj('test4'))"
   ]
  },
  {
   "cell_type": "code",
   "execution_count": null,
   "metadata": {},
   "outputs": [],
   "source": [
    "# 读取数据\n",
    "conn = sqlite3.connect(os.path.join('..','..','data','aso20190710.db'))\n",
    "\n",
    "sqlcode_bitd = \"select * from baseinfo_td\"\n",
    "sqlcode_ver = 'select * from version'\n",
    "\n",
    "bs = pd.read_sql(sqlcode_bitd, conn)\n",
    "version = pd.read_sql(sqlcode_ver, conn)"
   ]
  },
  {
   "cell_type": "code",
   "execution_count": null,
   "metadata": {},
   "outputs": [],
   "source": [
    "print(bs.shape)\n",
    "print(bs.columns)\n",
    "print(version.shape)\n",
    "print(version.columns)"
   ]
  },
  {
   "cell_type": "code",
   "execution_count": null,
   "metadata": {},
   "outputs": [],
   "source": [
    "dict_intro = {}\n",
    "for i in bsintro.itertuples(index = False):\n",
    "    temp = clean_text(str(i[1]))\n",
    "    if len(temp) >0:\n",
    "        dict_intro[str(i[0])] = temp\n"
   ]
  },
  {
   "cell_type": "code",
   "execution_count": null,
   "metadata": {},
   "outputs": [],
   "source": [
    "save_joblib(dict_intro,'dict_intro')"
   ]
  },
  {
   "cell_type": "code",
   "execution_count": null,
   "metadata": {},
   "outputs": [],
   "source": [
    "dict_ver = {}\n",
    "for i in version[['filename','vercontent']].itertuples(index = False):\n",
    "    temp = clean_text(str(i[1]))\n",
    "    if len(temp) > 0:\n",
    "        dict_ver[str(i[0])] = temp"
   ]
  },
  {
   "cell_type": "code",
   "execution_count": null,
   "metadata": {},
   "outputs": [],
   "source": [
    "save_joblib(dict_ver,'dict_ver')"
   ]
  },
  {
   "cell_type": "code",
   "execution_count": null,
   "metadata": {},
   "outputs": [],
   "source": []
  }
 ],
 "metadata": {
  "kernelspec": {
   "display_name": "Python 3",
   "language": "python",
   "name": "python3"
  },
  "language_info": {
   "codemirror_mode": {
    "name": "ipython",
    "version": 3
   },
   "file_extension": ".py",
   "mimetype": "text/x-python",
   "name": "python",
   "nbconvert_exporter": "python",
   "pygments_lexer": "ipython3",
   "version": "3.5.2"
  }
 },
 "nbformat": 4,
 "nbformat_minor": 2
}
