{
 "cells": [
  {
   "cell_type": "code",
   "execution_count": 90,
   "metadata": {},
   "outputs": [],
   "source": [
    "import pandas as pd\n",
    "import numpy as np\n",
    "import sqlite3,os,re,jieba,pickle,joblib\n",
    "from cal_tfidf import *"
   ]
  },
  {
   "cell_type": "code",
   "execution_count": 2,
   "metadata": {},
   "outputs": [],
   "source": [
    "datapath = os.path.join('..','data','20190710')"
   ]
  },
  {
   "cell_type": "code",
   "execution_count": 3,
   "metadata": {},
   "outputs": [],
   "source": [
    "def save_joblib(obj,name):\n",
    "    with open(name+'.pkl','wb') as f:\n",
    "        joblib.dump(obj,f)\n",
    "def load_joblib(name):\n",
    "    with open(name+'.pkl','rb') as f:\n",
    "        return joblib.load(f)"
   ]
  },
  {
   "cell_type": "code",
   "execution_count": 4,
   "metadata": {},
   "outputs": [],
   "source": [
    "conn = sqlite3.connect(os.path.join(datapath,'aso20190710.db'))\n",
    "sqlcode_bitd = \"select * from baseinfo_td\"\n",
    "sqlcode_ver = 'select * from version'\n",
    "bs = pd.read_sql(sqlcode_bitd, conn)"
   ]
  },
  {
   "cell_type": "code",
   "execution_count": 5,
   "metadata": {},
   "outputs": [],
   "source": [
    "mergepkg = pd.read_csv(os.path.join(datapath,'merpkg1zuizhong.csv'),encoding = 'gbk')"
   ]
  },
  {
   "cell_type": "code",
   "execution_count": 6,
   "metadata": {},
   "outputs": [
    {
     "name": "stdout",
     "output_type": "stream",
     "text": [
      "(13088, 28)\n",
      "(8031, 8)\n",
      "Index(['appleid', 'appName', 'appType', 'price', 'latestVersion',\n",
      "       'developerFirm', 'developer', 'tags', 'releaseDate', 'lastestDate',\n",
      "       'bundleId', 'lastestVer', 'size', 'payInApp', 'support',\n",
      "       'compatibility', 'lang', 'contentRank', 'artistname', 'samepubappnum',\n",
      "       'samepubapplist', 'samepubapplistid', 'introcontent', 'type_code_TD',\n",
      "       'pkgName', 'type_TD', 'qimaiId', 'rdtimestamp'],\n",
      "      dtype='object')\n",
      "Index(['Unnamed: 0', 'type_code', 'pkgName', 'type', 'appleid', 'qimaiId',\n",
      "       'bundleId', 'appName'],\n",
      "      dtype='object')\n"
     ]
    }
   ],
   "source": [
    "print(bs.shape)\n",
    "print(mergepkg.shape)\n",
    "print(bs.columns)\n",
    "print(mergepkg.columns)"
   ]
  },
  {
   "cell_type": "code",
   "execution_count": 7,
   "metadata": {},
   "outputs": [],
   "source": [
    "bs2 = bs.drop(columns = ['type_code_TD','pkgName', 'type_TD', 'qimaiId'],axis = 1)\n",
    "mergepkg2 = mergepkg.drop(columns = ['qimaiId','bundleId', 'appName'],axis = 1)\n",
    "mergepkg2['appleid'] = pd.to_numeric(mergepkg2['appleid'], errors='coerce')\n",
    "mergepkg2 = mergepkg2.dropna(subset = ['appleid'])"
   ]
  },
  {
   "cell_type": "code",
   "execution_count": 8,
   "metadata": {},
   "outputs": [
    {
     "name": "stdout",
     "output_type": "stream",
     "text": [
      "(13088, 24)\n",
      "Index(['appleid', 'appName', 'appType', 'price', 'latestVersion',\n",
      "       'developerFirm', 'developer', 'tags', 'releaseDate', 'lastestDate',\n",
      "       'bundleId', 'lastestVer', 'size', 'payInApp', 'support',\n",
      "       'compatibility', 'lang', 'contentRank', 'artistname', 'samepubappnum',\n",
      "       'samepubapplist', 'samepubapplistid', 'introcontent', 'rdtimestamp'],\n",
      "      dtype='object')\n",
      "(4540, 5)\n",
      "Index(['Unnamed: 0', 'type_code', 'pkgName', 'type', 'appleid'], dtype='object')\n"
     ]
    }
   ],
   "source": [
    "print(bs2.shape)\n",
    "print(bs2.columns)\n",
    "print(mergepkg2.shape)\n",
    "print(mergepkg2.columns)"
   ]
  },
  {
   "cell_type": "code",
   "execution_count": 9,
   "metadata": {},
   "outputs": [],
   "source": [
    "bs3 = bs2.copy()\n",
    "bs3['appleid'] = bs3['appleid'].apply(int)\n",
    "mergepkg3 = mergepkg2.copy()\n",
    "mergepkg3['appleid'] = mergepkg3['appleid'].apply(int)"
   ]
  },
  {
   "cell_type": "code",
   "execution_count": 10,
   "metadata": {},
   "outputs": [],
   "source": [
    "bs3pkg = bs3.merge(mergepkg3,on = 'appleid',how = 'inner')\n",
    "bs3pkg = bs3pkg.drop(columns =['Unnamed: 0'])\n",
    "bs3pkg = bs3pkg.reset_index(drop = True)"
   ]
  },
  {
   "cell_type": "code",
   "execution_count": 11,
   "metadata": {},
   "outputs": [
    {
     "name": "stdout",
     "output_type": "stream",
     "text": [
      "(4448, 27)\n",
      "Index(['appleid', 'appName', 'appType', 'price', 'latestVersion',\n",
      "       'developerFirm', 'developer', 'tags', 'releaseDate', 'lastestDate',\n",
      "       'bundleId', 'lastestVer', 'size', 'payInApp', 'support',\n",
      "       'compatibility', 'lang', 'contentRank', 'artistname', 'samepubappnum',\n",
      "       'samepubapplist', 'samepubapplistid', 'introcontent', 'rdtimestamp',\n",
      "       'type_code', 'pkgName', 'type'],\n",
      "      dtype='object')\n"
     ]
    }
   ],
   "source": [
    "print(bs3pkg.shape)\n",
    "print(bs3pkg.columns)"
   ]
  },
  {
   "cell_type": "code",
   "execution_count": 12,
   "metadata": {},
   "outputs": [
    {
     "data": {
      "text/html": [
       "<div>\n",
       "<style scoped>\n",
       "    .dataframe tbody tr th:only-of-type {\n",
       "        vertical-align: middle;\n",
       "    }\n",
       "\n",
       "    .dataframe tbody tr th {\n",
       "        vertical-align: top;\n",
       "    }\n",
       "\n",
       "    .dataframe thead th {\n",
       "        text-align: right;\n",
       "    }\n",
       "</style>\n",
       "<table border=\"1\" class=\"dataframe\">\n",
       "  <thead>\n",
       "    <tr style=\"text-align: right;\">\n",
       "      <th></th>\n",
       "      <th>appleid</th>\n",
       "      <th>appName</th>\n",
       "      <th>appType</th>\n",
       "      <th>price</th>\n",
       "      <th>latestVersion</th>\n",
       "      <th>developerFirm</th>\n",
       "      <th>developer</th>\n",
       "      <th>tags</th>\n",
       "      <th>releaseDate</th>\n",
       "      <th>lastestDate</th>\n",
       "      <th>...</th>\n",
       "      <th>contentRank</th>\n",
       "      <th>artistname</th>\n",
       "      <th>samepubappnum</th>\n",
       "      <th>samepubapplist</th>\n",
       "      <th>samepubapplistid</th>\n",
       "      <th>introcontent</th>\n",
       "      <th>rdtimestamp</th>\n",
       "      <th>type_code</th>\n",
       "      <th>pkgName</th>\n",
       "      <th>type</th>\n",
       "    </tr>\n",
       "  </thead>\n",
       "  <tbody>\n",
       "    <tr>\n",
       "      <th>0</th>\n",
       "      <td>281736535</td>\n",
       "      <td>Enigmo</td>\n",
       "      <td>游戏</td>\n",
       "      <td>¥12.00</td>\n",
       "      <td>2017-11-17</td>\n",
       "      <td>Pangea Software, Inc.</td>\n",
       "      <td>Pangea Software, Inc.</td>\n",
       "      <td>游戏、智力游戏、娱乐、街机游戏</td>\n",
       "      <td>2008年07月11日</td>\n",
       "      <td>2017年11月17日</td>\n",
       "      <td>...</td>\n",
       "      <td>4+</td>\n",
       "      <td>Pangea Software, Inc.</td>\n",
       "      <td>23</td>\n",
       "      <td>PangeaVR HD|Air Wings Intergalactic|Air Wings®...</td>\n",
       "      <td>373454824|590972134|496386846|298032129|288713...</td>\n",
       "      <td>•NETWORKEDMULTIPLAYERMODEWITHGAMECENTER!•Voted...</td>\n",
       "      <td>1215705600</td>\n",
       "      <td>T200200</td>\n",
       "      <td>com.westlake.enigmo</td>\n",
       "      <td>冒险游戏</td>\n",
       "    </tr>\n",
       "    <tr>\n",
       "      <th>1</th>\n",
       "      <td>307751675</td>\n",
       "      <td>PopStar!消灭星星</td>\n",
       "      <td>游戏</td>\n",
       "      <td>¥6.00</td>\n",
       "      <td>2015-10-22</td>\n",
       "      <td>Zplay (Beijing) Info. Tech. Co.,Ltd.</td>\n",
       "      <td>ZPLAY</td>\n",
       "      <td>游戏、智力游戏、桌面游戏、娱乐</td>\n",
       "      <td>2009年10月23日</td>\n",
       "      <td>2015年10月22日</td>\n",
       "      <td>...</td>\n",
       "      <td>4+</td>\n",
       "      <td>ZPLAY</td>\n",
       "      <td>80</td>\n",
       "      <td>BB弹 -全民街机打砖块|CC弹-别动我大象|弹弹猫|环形世界|PopStar! 消灭星星L...</td>\n",
       "      <td>1088720922|1107521460|1077670526|1071748533|35...</td>\n",
       "      <td>亲爱的PopStar!消灭星星的玩家，请将您对此版本的意见和所用设备反馈到我们的微信订阅号中...</td>\n",
       "      <td>1256227200</td>\n",
       "      <td>T201300</td>\n",
       "      <td>ast.game.popstar</td>\n",
       "      <td>休闲游戏</td>\n",
       "    </tr>\n",
       "  </tbody>\n",
       "</table>\n",
       "<p>2 rows × 27 columns</p>\n",
       "</div>"
      ],
      "text/plain": [
       "     appleid       appName appType   price latestVersion  \\\n",
       "0  281736535        Enigmo      游戏  ¥12.00    2017-11-17   \n",
       "1  307751675  PopStar!消灭星星      游戏   ¥6.00    2015-10-22   \n",
       "\n",
       "                          developerFirm              developer  \\\n",
       "0                 Pangea Software, Inc.  Pangea Software, Inc.   \n",
       "1  Zplay (Beijing) Info. Tech. Co.,Ltd.                  ZPLAY   \n",
       "\n",
       "              tags  releaseDate  lastestDate  ... contentRank  \\\n",
       "0  游戏、智力游戏、娱乐、街机游戏  2008年07月11日  2017年11月17日  ...          4+   \n",
       "1  游戏、智力游戏、桌面游戏、娱乐  2009年10月23日  2015年10月22日  ...          4+   \n",
       "\n",
       "              artistname samepubappnum  \\\n",
       "0  Pangea Software, Inc.            23   \n",
       "1                  ZPLAY            80   \n",
       "\n",
       "                                      samepubapplist  \\\n",
       "0  PangeaVR HD|Air Wings Intergalactic|Air Wings®...   \n",
       "1  BB弹 -全民街机打砖块|CC弹-别动我大象|弹弹猫|环形世界|PopStar! 消灭星星L...   \n",
       "\n",
       "                                    samepubapplistid  \\\n",
       "0  373454824|590972134|496386846|298032129|288713...   \n",
       "1  1088720922|1107521460|1077670526|1071748533|35...   \n",
       "\n",
       "                                        introcontent rdtimestamp type_code  \\\n",
       "0  •NETWORKEDMULTIPLAYERMODEWITHGAMECENTER!•Voted...  1215705600   T200200   \n",
       "1  亲爱的PopStar!消灭星星的玩家，请将您对此版本的意见和所用设备反馈到我们的微信订阅号中...  1256227200   T201300   \n",
       "\n",
       "               pkgName  type  \n",
       "0  com.westlake.enigmo  冒险游戏  \n",
       "1     ast.game.popstar  休闲游戏  \n",
       "\n",
       "[2 rows x 27 columns]"
      ]
     },
     "execution_count": 12,
     "metadata": {},
     "output_type": "execute_result"
    }
   ],
   "source": [
    "bs3pkg.head(2)"
   ]
  },
  {
   "cell_type": "code",
   "execution_count": 13,
   "metadata": {},
   "outputs": [
    {
     "name": "stdout",
     "output_type": "stream",
     "text": [
      "样本中的appleid个数为： 1675\n"
     ]
    }
   ],
   "source": [
    "appleid_num = len(set(bs3pkg['appleid'].values.tolist()))\n",
    "print('样本中的appleid个数为： {}'.format(appleid_num))"
   ]
  },
  {
   "cell_type": "code",
   "execution_count": 14,
   "metadata": {},
   "outputs": [
    {
     "data": {
      "text/plain": [
       "type_code\n",
       "T200100    110\n",
       "T200200     64\n",
       "T200300     49\n",
       "T200400     59\n",
       "T200500     28\n",
       "T200600     95\n",
       "T200700      9\n",
       "T200800     13\n",
       "T200900     46\n",
       "T201000      2\n",
       "T201100      3\n",
       "T201200     26\n",
       "T201300    322\n",
       "T201400     73\n",
       "T201500      2\n",
       "T201600    226\n",
       "T201700    212\n",
       "T201800     34\n",
       "T201900    158\n",
       "T202000    235\n",
       "Name: appleid, dtype: int64"
      ]
     },
     "execution_count": 14,
     "metadata": {},
     "output_type": "execute_result"
    }
   ],
   "source": [
    "appleidgroup = bs3pkg['appleid'].groupby(bs3pkg['type_code'])\n",
    "table_category_num = appleidgroup.agg('nunique')\n",
    "table_category_num"
   ]
  },
  {
   "cell_type": "markdown",
   "metadata": {},
   "source": [
    "# 保存数据到database"
   ]
  },
  {
   "cell_type": "code",
   "execution_count": 15,
   "metadata": {},
   "outputs": [],
   "source": [
    "conn2 = sqlite3.connect(os.path.join(datapath,'aso20190719.db'))\n",
    "c2 = conn2.cursor()"
   ]
  },
  {
   "cell_type": "code",
   "execution_count": 16,
   "metadata": {},
   "outputs": [
    {
     "name": "stdout",
     "output_type": "stream",
     "text": [
      "baseinfo_sample_1675 exits\n"
     ]
    }
   ],
   "source": [
    "try:\n",
    "    c2.execute('''create table baseinfo_sample_1675\n",
    "    (tableindex integer primary key,\n",
    "    appleid integer,\n",
    "    appName varchar(50),\n",
    "    appType varchar(10),\n",
    "    price varchar(10),\n",
    "    latestVersion varchar(20),\n",
    "    developerFirm varchar(50),\n",
    "    developer varchar(50),\n",
    "    tags varchar(50),\n",
    "    releaseDate varchar(20),\n",
    "    lastestDate varchar(20),\n",
    "    bundleId varchar(50),\n",
    "    lastestVer varchar(20),\n",
    "    size varchar(10),\n",
    "    payInApp varchar(10),\n",
    "    support varchar(20),\n",
    "    compatibility varchar(50),\n",
    "    lang varchar(20),\n",
    "    contentRank varchar(10),\n",
    "    artistname varchar(50),\n",
    "    samepubappnum integer,\n",
    "    samepubapplist text,\n",
    "    samepubapplistid text,\n",
    "    introcontent text,\n",
    "    rdtimestamp integer,\n",
    "    type_code varchar(20),\n",
    "    pkgName varchar(50),\n",
    "    type varchar(20))''')\n",
    "    conn2.commit()\n",
    "    print('baseinfo_sample_1675 create')\n",
    "except:\n",
    "    print('baseinfo_sample_1675 exits')"
   ]
  },
  {
   "cell_type": "code",
   "execution_count": 17,
   "metadata": {
    "scrolled": false
   },
   "outputs": [],
   "source": [
    "# # 存入数据库\n",
    "# for r in bs3pkg.itertuples():\n",
    "#     temp = tuple([i for i in r])\n",
    "#     try:\n",
    "#         c2.execute('insert into baseinfo_sample_1675 values (?,?,?,?,?,?,?,?,?,?,?,?,?,?,?,?,?,?,?,?,?,?,?,?,?,?,?,?)',temp)\n",
    "#         conn2.commit()\n",
    "#     except:\n",
    "#         print('error: {}'.format(getattr(r,'appleid')))"
   ]
  },
  {
   "cell_type": "code",
   "execution_count": 18,
   "metadata": {},
   "outputs": [],
   "source": [
    "# test = pd.read_sql(\"select * from baseinfo_sample_1675\",conn2)\n",
    "# print(test.shape)\n",
    "# print(test.columns)"
   ]
  },
  {
   "cell_type": "markdown",
   "metadata": {},
   "source": [
    "# 删除掉4个category的数据T200700, T201000, T201100, T201500"
   ]
  },
  {
   "cell_type": "code",
   "execution_count": 19,
   "metadata": {},
   "outputs": [],
   "source": [
    "bs3pkg2 = bs3pkg[~bs3pkg['type_code'].isin(['T200700', 'T201000', 'T201100', 'T201500'])]\n",
    "bs3pkg2 = bs3pkg2.reset_index(drop = True)"
   ]
  },
  {
   "cell_type": "code",
   "execution_count": 20,
   "metadata": {},
   "outputs": [
    {
     "name": "stdout",
     "output_type": "stream",
     "text": [
      "(4420, 27)\n",
      "Index(['appleid', 'appName', 'appType', 'price', 'latestVersion',\n",
      "       'developerFirm', 'developer', 'tags', 'releaseDate', 'lastestDate',\n",
      "       'bundleId', 'lastestVer', 'size', 'payInApp', 'support',\n",
      "       'compatibility', 'lang', 'contentRank', 'artistname', 'samepubappnum',\n",
      "       'samepubapplist', 'samepubapplistid', 'introcontent', 'rdtimestamp',\n",
      "       'type_code', 'pkgName', 'type'],\n",
      "      dtype='object')\n"
     ]
    }
   ],
   "source": [
    "print(bs3pkg2.shape)\n",
    "print(bs3pkg2.columns)"
   ]
  },
  {
   "cell_type": "code",
   "execution_count": 21,
   "metadata": {},
   "outputs": [
    {
     "name": "stdout",
     "output_type": "stream",
     "text": [
      "baseinfo_sample_1659 exits\n"
     ]
    }
   ],
   "source": [
    "try:\n",
    "    c2.execute('''create table baseinfo_sample_1659\n",
    "    (tableindex integer primary key,\n",
    "    appleid integer,\n",
    "    appName varchar(50),\n",
    "    appType varchar(10),\n",
    "    price varchar(10),\n",
    "    latestVersion varchar(20),\n",
    "    developerFirm varchar(50),\n",
    "    developer varchar(50),\n",
    "    tags varchar(50),\n",
    "    releaseDate varchar(20),\n",
    "    lastestDate varchar(20),\n",
    "    bundleId varchar(50),\n",
    "    lastestVer varchar(20),\n",
    "    size varchar(10),\n",
    "    payInApp varchar(10),\n",
    "    support varchar(20),\n",
    "    compatibility varchar(50),\n",
    "    lang varchar(20),\n",
    "    contentRank varchar(10),\n",
    "    artistname varchar(50),\n",
    "    samepubappnum integer,\n",
    "    samepubapplist text,\n",
    "    samepubapplistid text,\n",
    "    introcontent text,\n",
    "    rdtimestamp integer,\n",
    "    type_code varchar(20),\n",
    "    pkgName varchar(50),\n",
    "    type varchar(20))''')\n",
    "    conn2.commit()\n",
    "    print('baseinfo_sample_1659 create')\n",
    "except:\n",
    "    print('baseinfo_sample_1659 exits')"
   ]
  },
  {
   "cell_type": "code",
   "execution_count": 22,
   "metadata": {},
   "outputs": [],
   "source": [
    "# # 存入数据库\n",
    "# for r in bs3pkg2.itertuples():\n",
    "#     temp = tuple([i for i in r])\n",
    "#     try:\n",
    "#         c2.execute('insert into baseinfo_sample_1659 values (?,?,?,?,?,?,?,?,?,?,?,?,?,?,?,?,?,?,?,?,?,?,?,?,?,?,?,?)',temp)\n",
    "#         conn2.commit()\n",
    "#     except:\n",
    "#         print('error: {}'.format(getattr(r,'appleid')))"
   ]
  },
  {
   "cell_type": "markdown",
   "metadata": {},
   "source": [
    "# 提取出typecode和appleid的对应关系，保存到pickle"
   ]
  },
  {
   "cell_type": "code",
   "execution_count": 23,
   "metadata": {},
   "outputs": [],
   "source": [
    "type_code = list(set(bs3pkg2['type_code'].values.tolist()))\n",
    "dict_type_code_id = {}\n",
    "for i in type_code:\n",
    "    temp = bs3pkg2[bs3pkg2['type_code'].isin([i])]\n",
    "    tempappleidlist = list(set(temp['appleid'].values.tolist()))\n",
    "    dict_type_code_id[i] = tempappleidlist"
   ]
  },
  {
   "cell_type": "code",
   "execution_count": 24,
   "metadata": {},
   "outputs": [
    {
     "name": "stdout",
     "output_type": "stream",
     "text": [
      "T201700：212\n",
      "T201600：226\n",
      "T200200：64\n",
      "T200900：46\n",
      "T200500：28\n",
      "T200400：59\n",
      "T200600：95\n",
      "T201400：73\n",
      "T202000：235\n",
      "T201300：322\n",
      "T200800：13\n",
      "T200100：110\n",
      "T200300：49\n",
      "T201800：34\n",
      "T201900：158\n",
      "T201200：26\n"
     ]
    }
   ],
   "source": [
    "for k,v in dict_type_code_id.items():\n",
    "    print(k + '：'+str(len(v)))"
   ]
  },
  {
   "cell_type": "code",
   "execution_count": 25,
   "metadata": {},
   "outputs": [],
   "source": [
    "# # 存一下对应关系\n",
    "# with open(os.path.join(datapath,'dict_type_id_1659.pkl'), 'wb') as f:\n",
    "#     pickle.dump(dict_type_code_id,f,pickle.HIGHEST_PROTOCOL)"
   ]
  },
  {
   "cell_type": "markdown",
   "metadata": {},
   "source": [
    "# 计算根据intro的tfidf相似度"
   ]
  },
  {
   "cell_type": "code",
   "execution_count": 26,
   "metadata": {},
   "outputs": [],
   "source": [
    "# 读取数据\n",
    "intro_appleid = load_joblib(os.path.join(datapath,'dict_intro'))"
   ]
  },
  {
   "cell_type": "code",
   "execution_count": 27,
   "metadata": {},
   "outputs": [
    {
     "name": "stdout",
     "output_type": "stream",
     "text": [
      "1226962741\n",
      "['聚游', '湖南', '麻将', '一款', '休闲类', '棋牌', '游戏', '时尚', '简约', '棋牌', '画面', '真人', '实时', '对战', '玩法', '陪伴']\n"
     ]
    }
   ],
   "source": [
    "for k,v in intro_appleid.items():\n",
    "    print(k)\n",
    "    print(v)\n",
    "    break"
   ]
  },
  {
   "cell_type": "code",
   "execution_count": 29,
   "metadata": {},
   "outputs": [],
   "source": [
    "baselistoftextlist = []\n",
    "dict_idinsim_typecode = {}\n",
    "i = 0\n",
    "for k in dict_type_code_id:\n",
    "    dict_idinsim_typecode[k] = i\n",
    "    templist = dict_type_code_id[k]\n",
    "    temptextlist = []\n",
    "    for j in templist:\n",
    "        try:\n",
    "            temptextlist += intro_appleid[str(j)]\n",
    "        except:\n",
    "            continue\n",
    "    baselistoftextlist.append(temptextlist)\n",
    "    i += 1"
   ]
  },
  {
   "cell_type": "code",
   "execution_count": 30,
   "metadata": {},
   "outputs": [],
   "source": [
    "# save_joblib(baselistoftextlist,os.path.join(datapath,'listoftextlist_proto_1659'))\n",
    "# save_joblib(dict_idinsim_typecode,os.path.join(datapath,'dict_idinsim_proto_1659'))"
   ]
  },
  {
   "cell_type": "code",
   "execution_count": 31,
   "metadata": {},
   "outputs": [],
   "source": [
    "tfidfmodel_proto_1659 = tfidfmodel_cal(baselistoftextlist)"
   ]
  },
  {
   "cell_type": "code",
   "execution_count": 61,
   "metadata": {},
   "outputs": [],
   "source": [
    "dict_id_introdiff_proto_1659 = {}\n",
    "for t in dict_type_code_id:\n",
    "    for i in dict_type_code_id[t]:\n",
    "        try:\n",
    "            textlist = intro_appleid[str(i)]\n",
    "            tempsim = tfidfmodel_proto_1659.cal_tfidf(textlist,dict_idinsim_typecode[t])\n",
    "            tempdiff = 1-tempsim\n",
    "            dict_id_introdiff_proto_1659[i] = tempdiff\n",
    "        except:\n",
    "            continue"
   ]
  },
  {
   "cell_type": "code",
   "execution_count": 62,
   "metadata": {},
   "outputs": [],
   "source": [
    "# # 保存一下id与战略差异的对应关系\n",
    "# save_joblib(dict_id_introdiff_proto_1659,os.path.join(datapath,'dict_id_introdiff_proto_1659'))"
   ]
  },
  {
   "cell_type": "code",
   "execution_count": 63,
   "metadata": {},
   "outputs": [],
   "source": [
    "df_introdiff = pd.DataFrame({'appleid':[k for k in dict_id_introdiff_proto_1659],'introdiff':[dict_id_introdiff_proto_1659[k] for k in dict_id_introsim_proto_1659]})"
   ]
  },
  {
   "cell_type": "code",
   "execution_count": 64,
   "metadata": {},
   "outputs": [
    {
     "data": {
      "text/plain": [
       "(1476, 2)"
      ]
     },
     "execution_count": 64,
     "metadata": {},
     "output_type": "execute_result"
    }
   ],
   "source": [
    "df_introdiff.shape"
   ]
  },
  {
   "cell_type": "code",
   "execution_count": 65,
   "metadata": {},
   "outputs": [
    {
     "data": {
      "text/html": [
       "<div>\n",
       "<style scoped>\n",
       "    .dataframe tbody tr th:only-of-type {\n",
       "        vertical-align: middle;\n",
       "    }\n",
       "\n",
       "    .dataframe tbody tr th {\n",
       "        vertical-align: top;\n",
       "    }\n",
       "\n",
       "    .dataframe thead th {\n",
       "        text-align: right;\n",
       "    }\n",
       "</style>\n",
       "<table border=\"1\" class=\"dataframe\">\n",
       "  <thead>\n",
       "    <tr style=\"text-align: right;\">\n",
       "      <th></th>\n",
       "      <th>appleid</th>\n",
       "      <th>introdiff</th>\n",
       "    </tr>\n",
       "  </thead>\n",
       "  <tbody>\n",
       "    <tr>\n",
       "      <th>0</th>\n",
       "      <td>1097465856</td>\n",
       "      <td>0.663639</td>\n",
       "    </tr>\n",
       "    <tr>\n",
       "      <th>1</th>\n",
       "      <td>524509185</td>\n",
       "      <td>0.924966</td>\n",
       "    </tr>\n",
       "    <tr>\n",
       "      <th>2</th>\n",
       "      <td>838193156</td>\n",
       "      <td>0.843238</td>\n",
       "    </tr>\n",
       "    <tr>\n",
       "      <th>3</th>\n",
       "      <td>1228587014</td>\n",
       "      <td>0.859037</td>\n",
       "    </tr>\n",
       "    <tr>\n",
       "      <th>4</th>\n",
       "      <td>1054990344</td>\n",
       "      <td>0.865313</td>\n",
       "    </tr>\n",
       "  </tbody>\n",
       "</table>\n",
       "</div>"
      ],
      "text/plain": [
       "      appleid  introdiff\n",
       "0  1097465856   0.663639\n",
       "1   524509185   0.924966\n",
       "2   838193156   0.843238\n",
       "3  1228587014   0.859037\n",
       "4  1054990344   0.865313"
      ]
     },
     "execution_count": 65,
     "metadata": {},
     "output_type": "execute_result"
    }
   ],
   "source": [
    "df_introdiff.head()"
   ]
  },
  {
   "cell_type": "code",
   "execution_count": 66,
   "metadata": {},
   "outputs": [
    {
     "name": "stdout",
     "output_type": "stream",
     "text": [
      "introdiff_prototype_sample_1659 create\n"
     ]
    }
   ],
   "source": [
    "# 存到数据库\n",
    "try:\n",
    "    c2.execute('''create table introdiff_prototype_sample_1659\n",
    "    (appleid integer primary key,\n",
    "    introdiff numeric)''')\n",
    "    conn2.commit()\n",
    "    print('introdiff_prototype_sample_1659 create')\n",
    "except:\n",
    "    print('introdiff_prototype_sample_1659 exits')"
   ]
  },
  {
   "cell_type": "code",
   "execution_count": 68,
   "metadata": {},
   "outputs": [],
   "source": [
    "# for k,v in dict_id_introdiff_proto_1659.items():\n",
    "#     temp = (k,v)\n",
    "#     try:\n",
    "#         c2.execute('insert into introdiff_prototype_sample_1659 values (?,?)',temp)\n",
    "#         conn2.commit()\n",
    "#     except:\n",
    "#         print('error: {}'.format(k))"
   ]
  },
  {
   "cell_type": "code",
   "execution_count": 69,
   "metadata": {},
   "outputs": [
    {
     "name": "stdout",
     "output_type": "stream",
     "text": [
      "(1476, 2)\n",
      "Index(['appleid', 'introdiff'], dtype='object')\n",
      "     appleid  introdiff\n",
      "0  307751675   0.820942\n",
      "1  342994828   0.961500\n",
      "2  343200656   0.878637\n",
      "3  359917414   0.872872\n",
      "4  362949845   0.930567\n"
     ]
    }
   ],
   "source": [
    "# test = pd.read_sql(\"select * from introdiff_prototype_sample_1659\",conn2)\n",
    "# print(test.shape)\n",
    "# print(test.columns)\n",
    "# print(test.head(5))"
   ]
  },
  {
   "cell_type": "code",
   "execution_count": 70,
   "metadata": {},
   "outputs": [],
   "source": [
    "# # 存到文档\n",
    "# df_introdiff.to_csv(os.path.join(datapath,'introdiff_prototype_sample_1659.csv'))"
   ]
  },
  {
   "cell_type": "markdown",
   "metadata": {},
   "source": [
    "# 制作需要上传的文件"
   ]
  },
  {
   "cell_type": "code",
   "execution_count": 73,
   "metadata": {},
   "outputs": [],
   "source": [
    "mergepkg_up = bs3pkg2[['appleid','pkgName']].drop_duplicates()"
   ]
  },
  {
   "cell_type": "code",
   "execution_count": 74,
   "metadata": {},
   "outputs": [
    {
     "name": "stdout",
     "output_type": "stream",
     "text": [
      "(4420, 2)\n"
     ]
    }
   ],
   "source": [
    "print(mergepkg_up.shape)"
   ]
  },
  {
   "cell_type": "code",
   "execution_count": 75,
   "metadata": {},
   "outputs": [],
   "source": [
    "mergepkg_up.to_csv(os.path.join(datapath,'upload','mergepkg_up.csv'))"
   ]
  },
  {
   "cell_type": "code",
   "execution_count": 84,
   "metadata": {},
   "outputs": [],
   "source": [
    "baseinfo_up = bs3pkg2[['appleid','price','size', 'payInApp', 'samepubappnum','rdtimestamp']].drop_duplicates()"
   ]
  },
  {
   "cell_type": "code",
   "execution_count": 85,
   "metadata": {},
   "outputs": [
    {
     "name": "stdout",
     "output_type": "stream",
     "text": [
      "(1661, 6)\n"
     ]
    }
   ],
   "source": [
    "print(baseinfo_up.shape)"
   ]
  },
  {
   "cell_type": "code",
   "execution_count": 86,
   "metadata": {},
   "outputs": [
    {
     "data": {
      "text/html": [
       "<div>\n",
       "<style scoped>\n",
       "    .dataframe tbody tr th:only-of-type {\n",
       "        vertical-align: middle;\n",
       "    }\n",
       "\n",
       "    .dataframe tbody tr th {\n",
       "        vertical-align: top;\n",
       "    }\n",
       "\n",
       "    .dataframe thead th {\n",
       "        text-align: right;\n",
       "    }\n",
       "</style>\n",
       "<table border=\"1\" class=\"dataframe\">\n",
       "  <thead>\n",
       "    <tr style=\"text-align: right;\">\n",
       "      <th></th>\n",
       "      <th>appleid</th>\n",
       "      <th>price</th>\n",
       "      <th>size</th>\n",
       "      <th>payInApp</th>\n",
       "      <th>samepubappnum</th>\n",
       "      <th>rdtimestamp</th>\n",
       "    </tr>\n",
       "  </thead>\n",
       "  <tbody>\n",
       "    <tr>\n",
       "      <th>0</th>\n",
       "      <td>281736535</td>\n",
       "      <td>¥12.00</td>\n",
       "      <td>23.06 MB</td>\n",
       "      <td>是</td>\n",
       "      <td>23</td>\n",
       "      <td>1215705600</td>\n",
       "    </tr>\n",
       "    <tr>\n",
       "      <th>1</th>\n",
       "      <td>307751675</td>\n",
       "      <td>¥6.00</td>\n",
       "      <td>12.82 MB</td>\n",
       "      <td>是</td>\n",
       "      <td>80</td>\n",
       "      <td>1256227200</td>\n",
       "    </tr>\n",
       "    <tr>\n",
       "      <th>2</th>\n",
       "      <td>328992396</td>\n",
       "      <td>¥6.00</td>\n",
       "      <td>57.18 MB</td>\n",
       "      <td>否</td>\n",
       "      <td>19</td>\n",
       "      <td>1256227200</td>\n",
       "    </tr>\n",
       "    <tr>\n",
       "      <th>3</th>\n",
       "      <td>342994828</td>\n",
       "      <td>免费</td>\n",
       "      <td>41.5 MB</td>\n",
       "      <td>否</td>\n",
       "      <td>208</td>\n",
       "      <td>1260806400</td>\n",
       "    </tr>\n",
       "    <tr>\n",
       "      <th>6</th>\n",
       "      <td>343200656</td>\n",
       "      <td>免费</td>\n",
       "      <td>155.18 MB</td>\n",
       "      <td>是</td>\n",
       "      <td>25</td>\n",
       "      <td>1260460800</td>\n",
       "    </tr>\n",
       "  </tbody>\n",
       "</table>\n",
       "</div>"
      ],
      "text/plain": [
       "     appleid   price       size payInApp  samepubappnum  rdtimestamp\n",
       "0  281736535  ¥12.00   23.06 MB        是             23   1215705600\n",
       "1  307751675   ¥6.00   12.82 MB        是             80   1256227200\n",
       "2  328992396   ¥6.00   57.18 MB        否             19   1256227200\n",
       "3  342994828      免费    41.5 MB        否            208   1260806400\n",
       "6  343200656      免费  155.18 MB        是             25   1260460800"
      ]
     },
     "execution_count": 86,
     "metadata": {},
     "output_type": "execute_result"
    }
   ],
   "source": [
    "baseinfo_up.head()"
   ]
  },
  {
   "cell_type": "code",
   "execution_count": 97,
   "metadata": {},
   "outputs": [],
   "source": [
    "def price_to_float(text):\n",
    "    if '免费' in text:\n",
    "        price = float(0)\n",
    "    elif '¥' in text:\n",
    "        price = float(text.replace('¥',\"\"))\n",
    "    else:\n",
    "        price = np.nan\n",
    "baseinfo_up2 = baseinfo_up.copy()\n",
    "baseinfo_up2['free'] = baseinfo_up2['price'].apply(lambda x: 1 if '免费' in x else 0)\n",
    "baseinfo_up2['size'] = baseinfo_up2['size'].apply(lambda x: float(x.replace(' MB',\"\")))\n",
    "baseinfo_up2['payInApp'] = baseinfo_up2['payInApp'].apply(lambda x: 1 if x == '是' else 0)\n",
    "baseinfo_up2['age20161231'] = baseinfo_up2['rdtimestamp'].apply(lambda x: 1483200000-x)"
   ]
  },
  {
   "cell_type": "code",
   "execution_count": 98,
   "metadata": {},
   "outputs": [
    {
     "data": {
      "text/html": [
       "<div>\n",
       "<style scoped>\n",
       "    .dataframe tbody tr th:only-of-type {\n",
       "        vertical-align: middle;\n",
       "    }\n",
       "\n",
       "    .dataframe tbody tr th {\n",
       "        vertical-align: top;\n",
       "    }\n",
       "\n",
       "    .dataframe thead th {\n",
       "        text-align: right;\n",
       "    }\n",
       "</style>\n",
       "<table border=\"1\" class=\"dataframe\">\n",
       "  <thead>\n",
       "    <tr style=\"text-align: right;\">\n",
       "      <th></th>\n",
       "      <th>appleid</th>\n",
       "      <th>price</th>\n",
       "      <th>size</th>\n",
       "      <th>payInApp</th>\n",
       "      <th>samepubappnum</th>\n",
       "      <th>rdtimestamp</th>\n",
       "      <th>free</th>\n",
       "      <th>age20161231</th>\n",
       "    </tr>\n",
       "  </thead>\n",
       "  <tbody>\n",
       "    <tr>\n",
       "      <th>0</th>\n",
       "      <td>281736535</td>\n",
       "      <td>¥12.00</td>\n",
       "      <td>23.06</td>\n",
       "      <td>1</td>\n",
       "      <td>23</td>\n",
       "      <td>1215705600</td>\n",
       "      <td>0</td>\n",
       "      <td>267494400</td>\n",
       "    </tr>\n",
       "    <tr>\n",
       "      <th>1</th>\n",
       "      <td>307751675</td>\n",
       "      <td>¥6.00</td>\n",
       "      <td>12.82</td>\n",
       "      <td>1</td>\n",
       "      <td>80</td>\n",
       "      <td>1256227200</td>\n",
       "      <td>0</td>\n",
       "      <td>226972800</td>\n",
       "    </tr>\n",
       "    <tr>\n",
       "      <th>2</th>\n",
       "      <td>328992396</td>\n",
       "      <td>¥6.00</td>\n",
       "      <td>57.18</td>\n",
       "      <td>0</td>\n",
       "      <td>19</td>\n",
       "      <td>1256227200</td>\n",
       "      <td>0</td>\n",
       "      <td>226972800</td>\n",
       "    </tr>\n",
       "    <tr>\n",
       "      <th>3</th>\n",
       "      <td>342994828</td>\n",
       "      <td>免费</td>\n",
       "      <td>41.50</td>\n",
       "      <td>0</td>\n",
       "      <td>208</td>\n",
       "      <td>1260806400</td>\n",
       "      <td>1</td>\n",
       "      <td>222393600</td>\n",
       "    </tr>\n",
       "    <tr>\n",
       "      <th>6</th>\n",
       "      <td>343200656</td>\n",
       "      <td>免费</td>\n",
       "      <td>155.18</td>\n",
       "      <td>1</td>\n",
       "      <td>25</td>\n",
       "      <td>1260460800</td>\n",
       "      <td>1</td>\n",
       "      <td>222739200</td>\n",
       "    </tr>\n",
       "  </tbody>\n",
       "</table>\n",
       "</div>"
      ],
      "text/plain": [
       "     appleid   price    size  payInApp  samepubappnum  rdtimestamp  free  \\\n",
       "0  281736535  ¥12.00   23.06         1             23   1215705600     0   \n",
       "1  307751675   ¥6.00   12.82         1             80   1256227200     0   \n",
       "2  328992396   ¥6.00   57.18         0             19   1256227200     0   \n",
       "3  342994828      免费   41.50         0            208   1260806400     1   \n",
       "6  343200656      免费  155.18         1             25   1260460800     1   \n",
       "\n",
       "   age20161231  \n",
       "0    267494400  \n",
       "1    226972800  \n",
       "2    226972800  \n",
       "3    222393600  \n",
       "6    222739200  "
      ]
     },
     "execution_count": 98,
     "metadata": {},
     "output_type": "execute_result"
    }
   ],
   "source": [
    "baseinfo_up2.head()"
   ]
  },
  {
   "cell_type": "code",
   "execution_count": 101,
   "metadata": {},
   "outputs": [],
   "source": [
    "bs_diff_up = baseinfo_up2.merge(df_introdiff,on = 'appleid',how = 'inner')"
   ]
  },
  {
   "cell_type": "code",
   "execution_count": 102,
   "metadata": {},
   "outputs": [
    {
     "name": "stdout",
     "output_type": "stream",
     "text": [
      "(1476, 9)\n",
      "Index(['appleid', 'price', 'size', 'payInApp', 'samepubappnum', 'rdtimestamp',\n",
      "       'free', 'age20161231', 'introdiff'],\n",
      "      dtype='object')\n"
     ]
    }
   ],
   "source": [
    "print(bs_diff_up.shape)\n",
    "print(bs_diff_up.columns)"
   ]
  },
  {
   "cell_type": "code",
   "execution_count": 103,
   "metadata": {},
   "outputs": [
    {
     "data": {
      "text/html": [
       "<div>\n",
       "<style scoped>\n",
       "    .dataframe tbody tr th:only-of-type {\n",
       "        vertical-align: middle;\n",
       "    }\n",
       "\n",
       "    .dataframe tbody tr th {\n",
       "        vertical-align: top;\n",
       "    }\n",
       "\n",
       "    .dataframe thead th {\n",
       "        text-align: right;\n",
       "    }\n",
       "</style>\n",
       "<table border=\"1\" class=\"dataframe\">\n",
       "  <thead>\n",
       "    <tr style=\"text-align: right;\">\n",
       "      <th></th>\n",
       "      <th>appleid</th>\n",
       "      <th>price</th>\n",
       "      <th>size</th>\n",
       "      <th>payInApp</th>\n",
       "      <th>samepubappnum</th>\n",
       "      <th>rdtimestamp</th>\n",
       "      <th>free</th>\n",
       "      <th>age20161231</th>\n",
       "      <th>introdiff</th>\n",
       "    </tr>\n",
       "  </thead>\n",
       "  <tbody>\n",
       "    <tr>\n",
       "      <th>0</th>\n",
       "      <td>307751675</td>\n",
       "      <td>¥6.00</td>\n",
       "      <td>12.82</td>\n",
       "      <td>1</td>\n",
       "      <td>80</td>\n",
       "      <td>1256227200</td>\n",
       "      <td>0</td>\n",
       "      <td>226972800</td>\n",
       "      <td>0.820942</td>\n",
       "    </tr>\n",
       "    <tr>\n",
       "      <th>1</th>\n",
       "      <td>342994828</td>\n",
       "      <td>免费</td>\n",
       "      <td>41.50</td>\n",
       "      <td>0</td>\n",
       "      <td>208</td>\n",
       "      <td>1260806400</td>\n",
       "      <td>1</td>\n",
       "      <td>222393600</td>\n",
       "      <td>0.961500</td>\n",
       "    </tr>\n",
       "    <tr>\n",
       "      <th>2</th>\n",
       "      <td>343200656</td>\n",
       "      <td>免费</td>\n",
       "      <td>155.18</td>\n",
       "      <td>1</td>\n",
       "      <td>25</td>\n",
       "      <td>1260460800</td>\n",
       "      <td>1</td>\n",
       "      <td>222739200</td>\n",
       "      <td>0.878637</td>\n",
       "    </tr>\n",
       "    <tr>\n",
       "      <th>3</th>\n",
       "      <td>359917414</td>\n",
       "      <td>免费</td>\n",
       "      <td>224.04</td>\n",
       "      <td>1</td>\n",
       "      <td>34</td>\n",
       "      <td>1268928000</td>\n",
       "      <td>1</td>\n",
       "      <td>214272000</td>\n",
       "      <td>0.872872</td>\n",
       "    </tr>\n",
       "    <tr>\n",
       "      <th>4</th>\n",
       "      <td>362949845</td>\n",
       "      <td>¥12.00</td>\n",
       "      <td>108.99</td>\n",
       "      <td>1</td>\n",
       "      <td>13</td>\n",
       "      <td>1271779200</td>\n",
       "      <td>0</td>\n",
       "      <td>211420800</td>\n",
       "      <td>0.930567</td>\n",
       "    </tr>\n",
       "  </tbody>\n",
       "</table>\n",
       "</div>"
      ],
      "text/plain": [
       "     appleid   price    size  payInApp  samepubappnum  rdtimestamp  free  \\\n",
       "0  307751675   ¥6.00   12.82         1             80   1256227200     0   \n",
       "1  342994828      免费   41.50         0            208   1260806400     1   \n",
       "2  343200656      免费  155.18         1             25   1260460800     1   \n",
       "3  359917414      免费  224.04         1             34   1268928000     1   \n",
       "4  362949845  ¥12.00  108.99         1             13   1271779200     0   \n",
       "\n",
       "   age20161231  introdiff  \n",
       "0    226972800   0.820942  \n",
       "1    222393600   0.961500  \n",
       "2    222739200   0.878637  \n",
       "3    214272000   0.872872  \n",
       "4    211420800   0.930567  "
      ]
     },
     "execution_count": 103,
     "metadata": {},
     "output_type": "execute_result"
    }
   ],
   "source": [
    "bs_diff_up.head()"
   ]
  },
  {
   "cell_type": "code",
   "execution_count": 105,
   "metadata": {},
   "outputs": [],
   "source": [
    "# bs_diff_up.to_csv(os.path.join(datapath,'upload','bs_diff_up.csv'))"
   ]
  },
  {
   "cell_type": "markdown",
   "metadata": {},
   "source": [
    "# examplar model"
   ]
  },
  {
   "cell_type": "code",
   "execution_count": 106,
   "metadata": {},
   "outputs": [],
   "source": [
    "examplar_t = '672093597,823804745,1187076120,1189889599,343200656,791532221,834878585,880047117,897447840,951557681,954751394,1000619473,1022610807,1027688889,1071360255,1088720922,1120536875,1132481770,1148934777,1170455562,1178890673,1241177378,1006605215,1096974019,434811130,462737588,510582247,543097382,788406144,870091143,879295658,941017209,1068435609,1086871800,1175272674,1175672519,1191729152,1255739625,1255783557,1277061489,1280207637,1411791697,750931425,867465887,1006546980,1021136106,1061847126,1093063463,1099554323,1117273600,1169905294,1178500082,1269408720,737651307,971513085,1000619473,1053012308,1063956349,1089336971,1119059260,1143402987,1190796440,1228515946,1234193448,1237468382,593369632,895670960,910395494,940547441,1015364140,1031897589,1033387365,1088150831,1088753863,1093063463,1094162374,1109303593,1137913384,1140819787,1170455562,1178890673,1189895734,449735650,636369522,703585308,728293409,747314884,1053475918,1190223379,1260127872,1037198513,529479190,639516529,672150402,982428268,1053012308,1088179585,1099554323,1163802135,1178890673,564540143,883393043,966951791,981413101,1073870337,1102657935,1157853911,1188651309,1210593524,479516143,638689075,823804745,913292932,1012950712,1040029515,1077258852,1078806722,1094207590,1179688896,1183701879,1188931520,910395494,820140906,1094162374,1196660667,529479190,793077082,1053012308,1104855278,1117273600,897841116,954252817,954751394,1036661603,1062546241,1089336971,1152854815'\n",
    "examplar = [int(i) for i in examplar_t.split(',')]"
   ]
  },
  {
   "cell_type": "code",
   "execution_count": 107,
   "metadata": {},
   "outputs": [],
   "source": [
    "# save_joblib(examplar,os.path.join(datapath,'exemplar'))"
   ]
  },
  {
   "cell_type": "code",
   "execution_count": 108,
   "metadata": {},
   "outputs": [
    {
     "name": "stdout",
     "output_type": "stream",
     "text": [
      "['熊出没', '官方', '正版', '授权', '累计', '下载', '超', '养成', '游戏', '熊出没', '之熊', '大农场', '体验', '乐趣', '无穷的', '田园生活', '经典', '角色', '再现', '光头', '强化', '身', '机智', '农场主', '熊大', '经营', '美食', '变', '帮工', '果蔬', '种植', '萌宠', '饲养', '制作', '美食', '扩建', '农场', '装饰', '成', '美丽', '梦幻', '农场', '庄园', '游戏', '特色', '细腻', '卡通画', '风', '还原', '动画', '经典', '形象', '操作', '简单', '便捷', '个性化', '布局', '农场', '建造', '作坊', '制作', '美食', '订单', '赚取', '金币', '独创', '秘境', '系统', '收集', '珍稀', '宝藏', '社交互动', '好友', '交易', '高级', '订单', '小伙伴', '快来', '好友', '晋升', '鼎鼎大名', '农场主', '公众', '号乐', '游戏', '社区', '公众', '号', '上线', '小伙伴', '关注', '公众', '号', '即可', '第一', '时间', '接收', '最新', '游戏', '资讯', '领取', '游戏', '礼包', '登录', '微信', '点击', '通讯录', '新', '朋友', '添加', '朋友', '点击', '公众', '号', '选项', '搜索', '乐', '游戏', '社区', '即可', '特色', '介绍', '独有', '换装', '人物', '可度', '旋转', '放大', '缩小', '预览', '人物', '动态', '可爱', '头发', '布料', '质感', '真实', '鲜活', '灵动', '肢体', '带有', '触摸', '甜甜', '玩家', '即时', '互动', '款式', '包', '公仔', '伞', '扇子', '手持', '道具', '皆', '拥有', '睫毛', '妆容', '瞳孔', '美甲', '细节', '更换', '打造', '独一无二', '专属', '甜甜', '小镇', '地图', '四屏', '尺寸', '大型', '地图', '强大', '拓展', '性以', '枫叶', '原', '舞台', '青春', '故事', '甜蜜', '悸动', '事件', '小镇', '上演', '机会', '邂逅', '关系暧昧', '攻略', '角色', '玩家', '致力', '打造', '日常', '生活气息', '满载', '剧情', '地图', '关联', '穿梭', '剧情', '间', '体验', '小镇', '喜怒哀乐', '日式', '剧情', '学园', '社团', '生活', '剧情', '配合', '声优', '立绘', '生动', '演绎', '玩家', '营造', '真实', '日常', '学园', '生活', '感', '学长', '学姐', '学', '弟弟', '学妹', '班导', '老师', '应有尽有', '请', '指教', '原汁原味', '日式', '模式', '主线', '支线', '剧情', '玩家', '自由选择', '剧情', '路线', '内容', '轻松', '活泼', '紧扣', '现实', '社会', '话题', '喜好', '剧情', '穿插', '实用', '服装', '搭配', '知识', '介绍', '亚文化', '服装', '科普', '二次元', '内容', '宅', '共鸣', '吸引', '新人', '入宅', '暧昧', '暗恋', '表白', '恋爱', '元素', '满满', '游乐园', '学园', '祭', '电影院', '恋爱', '地点', '准备就绪', '打扮', '美美', '可爱', '男孩子', '尽情', '约会', '豪华', '十六位', '攻略', '涵盖', '男女', '性格', '职业', '萝莉', '正太', '御姐', '暖', '男傲', '娇无口', '总有', '一款', '怦然心动', '国内', '知名', '声优', '配音', '秦且', '歌', '大白', '冬冬', '默伶使', '人物', '立体', '吸引', '人气', '评选', '赛', '评选', '赛是', '玩家', '玩家', '角逐', '舞台', '优胜者', '独有', '丰厚', '奖励', '玩家', '活动', '界面', '展示', '一周', '获胜', '装扮', '评选', '赛', '拉票', '请求', '好友', '加油', '助力', '增加', '玩家', '互动', '竞争', '心理', '评选', '赛', '排行榜', '查看', '玩家', '服装', '搭配', '购买', '服装', '最佳', '游戏', '奖', '欢迎您', '市长', '修建', '美丽', '繁华', '城市', '市民', '乐在其中', '市民', '需求', '城市', '大小', '复杂性', '增加', '职责', '愉快', '心情', '带来', '全新', '平台', '设计', '游戏', '应用程序', '提供', '内购', '功能', '设备', '设置', '中', '禁用', '内购', '建造', '城市', '数不清', '建筑', '逼真', '画面', '堪称', '平台', '真实', '城市', '建设', '游戏', '策略性', '摆放', '建筑物', '税收', '源源不断', '城市', '健康成长', '捏', '拉', '缩放', '度', '旋转', '在线', '离线', '设备', '轻松', '管理', '扩张', '城市', '城市', '充满活力', '创造', '资源', '勾画', '城市', '轮廓', '好友', '城市', '交易', '资源', '船运', '订单', '机场', '运送', '货物', '建造', '东京', '风', '社区', '解锁', '自由', '女神像', '凯旋门', '专属', '建筑', '海滨', '扩张', '增建', '游艇', '码头', '水上', '乐园', '发动', '自然', '非', '自然', '灾害', '飞碟', '市民', '快乐', '解决', '交通', '火灾', '污染', '现实生活', '中', '挑战', '市民', '提供', '发电', '警察局', '公共设施', '需求', '提供', '公园', '教育', '提升', '人口', '宽敞', '大街', '有轨电车', '繁忙', '交通', '顺畅', '有意思', '挑战', '塑造', '和谐社区', '竞赛', '获取', '奖励', '市长', '大赛', '中', '挑战', '世界各地', '玩家', '联赛', '中', '过关斩将', '登上', '顶峰', '每周', '新', '挑战', '一路', '提升', '排名', '进军', '大都市', '精英', '联赛', '每场', '联赛', '中', '优秀', '市长', '丰厚', '奖励', '炫耀', '资本', '建造', '城市', '赢得', '胜利', '看着', '城市', '鲜活', '服务', '条款', '保密', '协议', '游戏', '最终用户', '许可', '协议', '访问', '咨询', '用户', '信息', '应用程序', '接受', '保密', '协议', '服务', '条款', '最终用户', '许可', '协议', '包含', '合作伙伴', '广告', '第三方', '分析', '技术', '收集', '数据', '详细信息', '请', '参见', '保密', '协议', '链接', '互联网', '社交', '网站', '用户', '需', '年满', '周岁', '访问', '网站', '发布', '通知', '日后', '停止', '在线', '功能', '服务', '冒险岛', '手游', '韩国', '开发', '超人气', '横版', '动作', '手游', '完美', '延续', '萌', '画面', '剧情', '海量', '多样', '玩法', '经典', '特色', '冒险岛', '手游', '提供', '全新', '剧情', '虚拟', '键盘', '操纵杆', '两种', '操作', '模式', '先进', '即时', '网络', '组队', '功能', '公会', '社交', '养成', '个性', '玩法', '优化', '传承', '经典', '回归', '冒险', '心', '游戏', '特色', '海量', '萌', '宠物', '骑', '宠', '多种', '制作', '合成', '装备', '强化', '冒险', '渴望', '选择', '可爱', '角色', '随时随地', '呆萌', '冒险', '踏上', '旅途', '成千上万', '小伙伴', '结伴', '而行', '感受', '气泡', '聊天', '公会', '互动', '便捷', '化', '社交', '体验', '随时随地', '快乐', '冒险', '视网膜', '级', '特效', '四人', '组队', '挑战', '精英', '副本', '激爽', '夯击', '随时随地', '激情', '冒险', '完美', '操作', '体验', '虚拟', '键盘', '操纵杆', '两种', '操作', '模式', '任君', '随意', '挑选', '极致', '操控', '体验', '随时随地', '动感', '冒险', '主线', '剧情', '海量', '支线', '各大', '职业', '地图', '随时随地', '畅爽', '冒险', '玩法', '简介', '冒险', '用心', '体验', '神奇', '世界', '内涵', '游戏', '剧情', '职业', '多种', '挑战', '超多', '支线', '上百', '地图', '区域', '超赞', '装备', '奖励', '回归', '冒险', '心', '公会', '副本', '公会', '副', '本来', '袭', '公会', '好友', '一同', '斩妖', '除魔', '战胜', '关底', '获取', '神级', '装备', '齐心协力', '痛扁', '敌人', '赢取', '异性', '赞美', '眼光', '个性', '时装', '打扮', '海量', '精致', '活泼', '趣味', '千种', '时装', '道具', '尽收眼底', '冒险岛', '手游', '世界', '里', '打造', '个性', '角色', '事件', '伙伴', '冒险岛', '手游', '世界', '中', '体验', '事件', '突发', '乐趣', '从天而降', '大坏蛋', '捣乱', '世界', '和平', '冒险者', '迎战', '人物', '养成', '人物', '做主', '各类', '技能', '搭配', '人物属性', '培养', '大干一场', '汉子', '妹子', '爱玩', '超萌', '冒险', '一触即发', '正版', '授权', '世纪', '天成', '代理', '经典', '今朝', '回归', '快乐', '交友', '全民', '冒险', '冒险岛', '手游', '官网', '地址', '冒险岛', '手游', '微信', '公众', '号', '冒险岛', '手游', '冒险岛', '手游', '官方', '交流', '群', '冒险岛', '手游安卓', '官方', '群', '冒险岛', '手游', '官方', '群', '游戏', '剧情', '花神', '妮塔', '魔界', '王子', '相恋', '神位', '花朵', '再也', '结不出', '带来', '幸福', '花', '语石', '千万年', '花语', '学园', '中', '中', '花', '语石', '再次出现', '代表', '幸福', '痛苦', '游戏', '特色', '双', '主角', '故事', '双', '主角', '视角', '剧情', '描述', '细腻', '描述', '发生', '学园', '奇妙', '故事', '首创', '剧情', '模式', '首创', '剧情', '展现', '模式', '场景', '表达', '故事', '可不是', '电子书', '动态', '换装', '千件', '精美', '服饰', '换装', '停不下来', '社区', '养成', '拉上', '好友', '养成', '温馨', '浪漫', '家', '串门', '做', '首创', '寻宝', '玩法', '女神', '宝藏', '遗落', '公共', '社区', '里', '快拉上', '好友', '寻找', '故事', '角色', '细腻', '动画', '表情', '赋予', '角色', '独特', '灵魂', '男性', '服饰', '精美', '男性', '角色', '服饰', '男人', '潮', '管家', '模式', '独一无二', '执事', '女仆', '触摸', '调戏', '关注', '官方', '微信', '花语', '学园', '手游', '官方', '微博', '花语', '学园', '官方网站', '微信', '花语', '学园', '手游', '花语', '学园', '官方', '群群', '微博', '花语', '学园', '客服', '电话', '服装设计', '投稿', '热爱', '服装设计', '朋友', '兴趣', '花语', '学园', '设计', '衣服', '微博', '花语', '学园', '提醒', '小贴士', '建议', '官方', '服务', '人员', '努力', '付费', '榜', '期间', '游戏', '体验', '调整', '到位', '大部分', '设备', '流畅', '机型', '体验', '游戏', '闪退', '推荐', '机型', '下载', '实在', '想', '玩', '等候', '系统优化', '看能', '支持', '内存', '机型', '支持', '动力', '梦想', '小镇', '城市', '建设', '农场管理', '独树一帜', '收获', '农作物', '工厂', '加工', '货物', '出售', '发展', '小镇', '远处', '岛屿', '交易', '开设', '餐厅', '电影院', '社区', '建筑', '小镇', '别具风味', '充满生机', '探索', '矿井', '获取', '能源', '找出', '古董', '运营', '动物园', '收集', '世界各地', '动物', '筑造', '梦想', '梦想', '小镇', '特色', '与众不同', '建筑', '装饰品', '打造', '梦想', '小镇', '种植', '各种各样', '农作物', '工厂', '中', '加工', '收到', '有趣', '独具', '魅力', '小镇', '居民', '发来', '订单', '小镇', '矿井', '中', '发掘', '收集', '古董', '小岛', '带回', '充满', '异域', '风情', '货物', '建造', '动物园', '繁育', '动物', '著名', '地标', '建筑', '装饰', '小镇', '自由', '女神像', '大本钟', '脸书', '游戏', '中心', '好友', '玩', '游戏', '社区', '中', '交些', '新', '朋友', '梦想', '小镇', '款', '免费', '游戏', '游戏', '物品', '真实', '货币', '买', '希望', '选项', '设备', '访问', '菜单', '中将', '关闭', '即可', '玩本', '游戏', '需', '网络连接', '社交互动', '比赛', '功能', '喜欢', '梦想', '小镇', '游戏', '相关', '内容', '脸书', '推特', '微博对', '游戏', '疑问请', '技术支持', '发送', '电子邮件', '条款', '隐私', '政策', '游戏', '简介', '美美', '小店', '美图秀', '秀', '团队', '荣誉出品', '女生', '想要', '衣帽间', '全球', '超', '新潮', '时尚', '搭配', '游戏', '画面', '唯美', '手', '简单', '超级', '好玩', '爱美', '女生', '玩', '明明', '颜值', '实力', '不来', '玩', '美美', '小店', '想要', '梦幻', '小店', '拥有', '一家', '梦幻', '小店', '搜罗', '潮流', '新品', '体验', '尚', '店主', '乐趣', '环游世界', '买买', '买', '伦敦', '米兰', '纽约', '东京', '随你挑', '经营', '店铺', '愁', '顾客', '升级', '贡献', '源源不断', '收入', '门槛', '操作', '解放', '经营', '压力', '时尚', '女王', '几套', '衣服', '亿万', '绝美', '套装', '潮流', '单品', '挑', '享誉', '全球', '知名', '设计师', '倾力', '打造', '梦幻', '衣帽间', '想要', '绝美', '套装', '时尚', '单品', '森女', '英伦', '复古', '白领', '嘻哈', '哥特', '摇滚', '朋克', '波', '西米亚', '礼服', '清新', '休闲', '运动', '风格', '应有尽有', '总有', '一款', '菜', '虚拟', '现实', '界限', '穿', '现实', '时尚', '真', '时尚', '美美', '小店', '中', '绝美', '套装', '时尚', '单品', '现实生活', '绘制', '游戏', '里', '美丽动人', '现实生活', '中', '惊艳', '全场', '美美', '小店', '时尚', '潮牌', '展开', '合作', '游戏', '华丽', '衣服', '穿', '现实', '中', '梦', '专属', '排行榜', '打造', '经营', '达', '旅行', '达', '搭配', '达', '统统', '华丽', '丽', '排行榜', '排行榜', '玩家', '个性', '装扮', '背景', '想要', '炫耀', '限量', '套装', '想要', '展示', '升级', '华丽', '背景', '想要', '分享', '抽到', '高心', '单品', '排行榜', '翘首', '期盼', '登顶', '友情', '提示', '美美', '小店', '好玩', '记得', '分享', '三位', '闺蜜', '游戏', '中', '请', '联系方式', '官方', '微信', '官方', '微博', '美美', '小店', '官方', '贴', '美美', '小店', '官方网站', '官方', '群已', '官方', '群', '客服', '在线', '客服', '电话', '转', '闯入', '一座', '神奇', '生物', '古老', '原始森林', '眼前', '一幕', '惊呆', '恐龙', '等待', '领养', '未', '孵化', '恐龙蛋', '亟待', '保护', '非洲', '酋长', '女儿', '爱莎', '扩建', '庄园', '恐龙', '濒临灭绝', '建造', '足够', '建筑', '保护', '善待', '听说', '幻想', '神兽', '拥有', '强大', '力量', '更好', '经营', '恐龙', '庄园', '担心', '好友', '妙不可言', '事情', '设计', '恐龙', '世界', '恐龙', '神奇', '宝贝', '功能', '玩家', '社区', '家园', '装饰', '奇思妙想', '扩建', '领地', '打造', '恐龙', '世界', '多达', '百种', '恐龙', '等待', '朋友', '部落', '里', '朋友', '光临', '家园', '世界', '好多', '捣乱', '恐龙', '抓住', '官方', '群', '全压', '炸', '牌', '咚咚', '搞', '惨', '斗地主', '斗牛', '想', '体验', '刺激', '游戏', '土豪', '炸', '翻天', '芽豆', '工作室', '耗费', '半年', '时间', '精心', '打造', '一款', '真人', '玩家', '之间', '斗智斗勇', '炸', '金花', '同花顺', '游戏', '土豪', '炸', '翻天', '中', '牌小诈', '走牌', '实力', '勇气', '智谋', '较量', '冒险家', '游戏', '游戏', '特色', '每日', '登陆', '领取', '工资', '金币', '系统', '每隔', '小时', '自动', '补充', '用户', '免费', '畅玩', '界面', '精美', '操作', '简单', '上手', '带有', '聊天', '系统', '玩家', '玩游戏', '交到', '基友', '联网', '真人', '比赛', '流量', '消耗', '少', '稳定', '流畅', '网络', '条件', '不好', '情况', '能流畅', '运行', '土豪', '炸', '翻天', '游戏', '由人', '一副', '扑克牌', '去掉', '大小', '王', '一共', '花色', '张牌', '玩家', '手中', '三张', '牌比', '输赢', '游戏', '过程', '中', '考验', '玩家', '胆略', '智慧', '牌型', '豹子', '三张', '点', '牌', '最小', '同花顺', '三张', '花色', '顺子', '花色', '花色', '最小', '花', '金花', '三张', '花色', '牌', '非', '顺子', '小顺子', '三张', '花色', '完全相同', '顺子', '最小', '对子', '两张', '点', '牌', '最小', '单张', '三张', '牌', '类型', '牌', '最小', '大小', '规则', '豹子', '同花顺', '同花顺', '子', '对子', '散牌', '花色', '牌', '点中', '最小', '从大到', '依次', '同种', '牌型', '顺序', '比点', '如牌', '大小', '完全相同', '主动', '比牌', '输', '第一个', '叫牌', '逆时针', '开牌', '牌先', '开者', '输', '游戏', '术语', '锅底', '发牌', '第一把', '每位', '玩家', '投入', '初始', '筹码', '投注额', '每次', '投注', '金额', '每局', '投注额', '封顶', '每局', '总', '投注', '筹码', '总和', '上限', '封顶', '本轮', '结束', '自动', '开牌', '暗注', '看牌', '投注', '筹码', '明注', '看牌', '下注', '筹码', '暗注', '倍', '注', '投入', '上家', '筹码', '加注', '上家', '投入', '基础', '增加', '投入', '注', '放弃', '玩家', '自动', '弃权', '放弃', '投注', '筹码', '判输', '喜金', '获胜', '豹子', '同花顺', '玩家', '需', '额外', '支付', '金币', '游戏规则', '投入', '锅底', '发牌', '先', '付出', '游戏', '筹码', '发牌', '一副', '牌张', '大小', '王从', '庄家', '发牌', '第一次', '开局', '随机', '选择', '用户', '庄家', '先', '发牌', '每人', '发', '三张', '牌牌', '面向', '下为', '暗牌', '游戏', '游戏', '人数', '庄家', '下注', '玩家', '依次', '逆时针', '操作', '轮', '玩家', '操作', '玩家', '条件', '判断', '形势', '加', '看牌', '放弃', '比牌', '操作', '看牌', '选择', '放弃', '玩家', '轮', '动作', '选择', '牌', '看牌', '选择', '跟加', '比牌', '游戏', '中', '放弃', '玩家', '结束', '游戏', '前', '无权', '查看', '牌', '玩家', '牌', '比牌', '第二轮', '玩家', '投注', '前', '选择', '比牌', '比牌', '比牌', '玩家', '看不到', '两人', '牌面', '牌型', '牌点', '比牌', '方胜', '跟注', '加注', '每次', '跟注', '加注', '单注', '超过', '单局', '约定', '注', '加注', '上限', '游戏', '房间内', '筹码', '顶', '注当', '选择', '加注', '加注', '框', '顶端', '显示', '一手', '加注', '数值', '胜负', '判定', '剩下', '玩家', '玩家', '比牌', '输', '弃牌', '玩家', '赢', '总', '筹码', '封顶', '情况', '本轮', '结束', '自动', '开牌', '大小', '规则', '一方', '赢家', '赢家', '本局', '总', '筹码', '放弃', '规则', '游戏', '操作', '超时', '放弃', '丧失', '下注', '筹码', '温馨', '提醒', '适度', '游戏', '锻炼', '享受', '生活', '客服', '第一款', '专', '女性', '玩家', '打造', '换装', '养成', '手游', '首创', '正统', '换装', '玩法', '完美', '融合', '轻松', '换装', '绿色', '养成', '亿万', '美装', '随心', '搭配', '简约', '流畅', '换装', '玩法', '精致', '写实', '清新', '画风', '全球', '首发', '中日', '双语', '配音', '版本', '花泽', '香菜', '领衔', '日本', '六大', '顶级', '声优', '加盟', '万', '女生', '专属', '魔法', '衣橱', '暖', '暖', '环游世界', '换装', '简单', '全球', '首款', '清新', '换装', '养成', '手游', '暖', '暖', '环游世界', '开启', '全新', '旅程', '中日', '双语', '配音', '全球', '首发', '千套', '美装', '更新', '上架', '体验', '天空', '挑战赛', '独创', '玩法', '喵', '暖', '暖', '踏上', '澳大利亚', '换装', '旅暖', '暖', '环游世界', '猎豹', '全', '平台', '独家代理', '首款', '经典', '换装', '养成', '手游', '日本', '区', '付费', '全榜', '第一', '香港', '区', '澳门', '区', '付费', '全榜', '第一', '台湾', '区', '付费', '游戏', '第一', '国内', '付费', '免费', '双榜', '第一', '辉煌', '成绩', '游戏', '特性', '正统', '换装', '手游', '经典', '玩法', '全新', '体验', '暖', '暖', '环游世界', '第一款', '专', '女性', '玩家', '打造', '换装', '养成', '手游', '可爱', '暖', '暖', '爱', '吐', '槽', '喵', '经典', '换装', '玩法', '清新', '淡雅', '画风', '短短的', '一年', '时间', '里', '暖', '暖', '赢得', '万', '用户', '喜爱', '暖', '暖', '环游世界', '首创', '正统', '换装', '玩法', '完美', '融合', '环游世界', '过程', '中', '结识', '新', '朋友', '挑战', '新', '关卡', '寻找', '谜题', '答案', '体验', '充满', '乐趣', '剧情', '关卡', '暖', '暖', '穿', '合适', '搭配', '前行', '暖', '暖', '日常', '穿着', '搭配', '有用', '参考', '经典', '玩法', '暖', '暖', '推陈出新', '全球', '首发', '中日', '双语', '配音', '版本', '日本', '顶级', '声优', '花泽', '香菜', '大谷', '育江', '神谷', '浩史泽城', '美雪', '朴璐', '美村川梨衣', '倾情', '加盟', '暖', '暖', '环游世界', '献声', '配音', '演绎', '乔巴', '皮卡丘', '利', '威尔', '神代利世', '知名', '角色', '覆盖', '日本', '受欢迎', '动漫', '作品', '超', '豪华', '声优', '阵容', '感受', '动漫', '原', '声', '视听', '盛宴', '千套', '美装', '更新', '上架', '星座', '套装', '闪亮', '登场', '十二', '星座', '神秘', '华丽', '将来', '呈现', '带上', '美丽', '旅行', '感受', '怦然心动', '穿', '搭', '体验', '轻松', '换装', '绿色', '养成', '亿万', '美装', '随心', '搭配', '暖', '暖', '环游世界', '秉承', '前代', '单机游戏', '基因', '杜绝', '卡牌化', '消费', '模式', '杜绝', '划分', '等级', '系统', '紧张', '模式', '耗费', '金钱', '时间', '强化', '系统', '轻松', '换装', '绿色', '养成', '亿万', '美装', '随心', '搭配', '年龄层', '真心', '喜爱', '暖暖的', '玩家', '轻松', '快乐', '度过', '一段', '美好', '休闲', '时光', '千款', '发型', '万件', '美装', '创造', '亿种', '搭配', '地域', '特色', '服装', '众多', '萌物', '道具', '目不暇接', '节气', '套装', '婚纱', '套装', '古风', '套装', '星座', '套装', '节日', '套装', '活动', '套装', '层出不穷', '不断更新', '收集', '欲望', '和暖', '暖', '相伴', '环游世界', '一路上', '惊喜', '卖萌萝莉装', '性感', '泳装', '帅气', '男装', '特色', '民族', '装', '华美', '礼服', '种类', '服饰', '琳琅满目', '真想', '暖', '暖', '收入', '衣柜', '精美', '设计图', '等待', '暖', '暖', '收集', '材料', '制作', '出新', '衣服', '清新', '换装', '暖', '暖', '回忆', '一份', '意外', '生日礼物', '一张', '神秘', '藏宝图', '暖暖的', '环球', '旅程', '开启', '简单', '清新', '换装', '玩法', '重温', '芭比娃娃', '相伴', '美好', '童年', '精致', '写实', '清新', '画风', '绝赞', '人物', '立绘', '精巧', '细致', '地图', '带来', '与众不同', '视觉享受', '超萌', '过关', '漫画', '新', '地图', '新', '剧情', '帅哥', '角色', '全新', '贴心', '设计', '暖暖的', '旅途', '轻松', '便利', '玩法', '体验', '收集', '材料', '制作', '衣服', '乐趣', '尝试', '新鲜', '刺激', '迷之屋', '礼物', '送', '融合', '好感度', '养成', '系统', '每周', '搭配', '评选', '赛', '报名', '参赛', '全球', '玩家', '搭配', '评委', '反客为主', '独创', '评价', '体系', '精准', '朋友', '大胆', '搭配', '挑战', '审美', '衣服', '搭配', '能力', '贴近生活', '剧情', '日常', '穿衣', '搭配', '极具', '参考价值', '傲娇', '姐姐', '腹黑萌', '喵', '陪伴', '暖', '暖', '经历', '奇特', '搞怪', '人物', '精彩', '故事', '众多', '萌物', '旅途', '充满', '乐趣', '流畅', '剧情', '未知', '谜题', '等待', '暖', '暖', '寻找', '最终', '答案', '喜欢', '游戏', '喜欢', '暖', '暖', '关注', '暖', '暖', '联系方式', '新浪', '微博暖', '暖', '暖', '暖', '同人', '花园', '微', '信号', '邮箱', '暖', '暖', '官方', '粉丝', '群', '客服', '童年', '经典', '改编', '精灵', '高清', '重制', '经典', '国民', '级', '宠物', '战神', '作', '口袋', '重置', '复刻', '原著', '剧情', '再现', '精灵', '养成', '路上', '千款', '萌宠', '任意', '捕捉', '拥有', '多维度', '养成', '系统', '进化', '玩法', '经典', '怀旧', '对战', '模式', '精灵', '属性', '相生相克', '让玩家', '驾驭', '巅峰', '精灵', '顶级', '特效', '完美', '展现', '精灵', '过程', '让玩家', '体验', '一场', '完美', '奇幻', '冒险', '之旅', '中国', '大陆', '地区', '用户', '请', '留意', '很快', '所在区域', '下架', '下载', '安装', '安装', '版本', '提供', '版本', '更新', '支持', '服务', '网易公司', '合作', '计划', '中国', '大陆', '地区', '推出', '世界', '官方', '中国', '版', '免费', '下载', '体验', '全新', '世界', '请', '官方', '微信', '公众', '号', '世界', '获取', '信息', '最新更新', '推出', '全新', '游戏', '功能', '包括', '羊驼', '森林', '大厦', '刌', '民和', '潜匿', '之贝', '盒子', '世界', '交易所', '推出', '社区', '超赞', '皮肤', '材质', '地图', '天际', '混搭包', '探索', '随机', '生成', '世界', '建造', '不可思议', '事物', '简单', '住宅', '宏伟', '城堡', '创意', '模式', '中', '享用', '无限', '资源', '生存', '模式', '中', '挖掘', '世界', '合成', '武器', '护甲', '抵御', '危险', '生物', '社区', '皮肤', '材质', '混', '搭', '包', '访问', '好友', '设备', '尽情', '合成', '制作', '探索', '隐私', '政策', '条款', '链接', '隐私', '政策', '条款']\n"
     ]
    }
   ],
   "source": [
    "baselistoftextlist2 = []\n",
    "dict_idinsim_typecode2 = {}\n",
    "i = 0\n",
    "for k in dict_type_code_id:\n",
    "    dict_idinsim_typecode2[k] = i\n",
    "    templist = dict_type_code_id[k]\n",
    "    temptextlist = []\n",
    "    for j in templist:\n",
    "        if j in examplar:\n",
    "            try:\n",
    "                temptextlist += intro_appleid[str(j)]\n",
    "            except:\n",
    "                continue\n",
    "    baselistoftextlist2.append(temptextlist)\n",
    "    i += 1\n"
   ]
  },
  {
   "cell_type": "code",
   "execution_count": 109,
   "metadata": {},
   "outputs": [],
   "source": [
    "# save_joblib(baselistoftextlist2,os.path.join(datapath,'listoftextlist_exemplar_1659'))\n",
    "# save_joblib(dict_idinsim_typecode2,os.path.join(datapath,'dict_idinsim_exemplar_1659'))"
   ]
  },
  {
   "cell_type": "code",
   "execution_count": 110,
   "metadata": {},
   "outputs": [],
   "source": [
    "tfidfmodel_exemplar_1659 = tfidfmodel_cal(baselistoftextlist2)\n",
    "dict_id_introdiff_exemplar_1659 = {}\n",
    "for t in dict_type_code_id:\n",
    "    for i in dict_type_code_id[t]:\n",
    "        if i not in examplar:\n",
    "            try:\n",
    "                textlist = intro_appleid[str(i)]\n",
    "                tempsim = tfidfmodel_exemplar_1659.cal_tfidf(textlist,dict_idinsim_typecode2[t])\n",
    "                tempdiff = 1-tempsim\n",
    "                dict_id_introdiff_exemplar_1659[i] = tempdiff\n",
    "            except:\n",
    "                continue"
   ]
  },
  {
   "cell_type": "code",
   "execution_count": 111,
   "metadata": {},
   "outputs": [],
   "source": [
    "# # 保存一下id与战略差异的对应关系\n",
    "# save_joblib(dict_id_introdiff_exemplar_1659,os.path.join(datapath,'dict_id_introdiff_exemplar_1659'))"
   ]
  },
  {
   "cell_type": "code",
   "execution_count": 113,
   "metadata": {},
   "outputs": [],
   "source": [
    "df_introdiff_exemplar = pd.DataFrame({'appleid':[k for k in dict_id_introdiff_exemplar_1659],'introdiff':[dict_id_introdiff_exemplar_1659[k] for k in dict_id_introdiff_exemplar_1659]})"
   ]
  },
  {
   "cell_type": "code",
   "execution_count": 114,
   "metadata": {},
   "outputs": [
    {
     "name": "stdout",
     "output_type": "stream",
     "text": [
      "introdiff_exemplar_sample_1659 create\n"
     ]
    }
   ],
   "source": [
    "# 存到数据库\n",
    "try:\n",
    "    c2.execute('''create table introdiff_exemplar_sample_1659\n",
    "    (appleid integer primary key,\n",
    "    introdiff numeric)''')\n",
    "    conn2.commit()\n",
    "    print('introdiff_exemplar_sample_1659 create')\n",
    "except:\n",
    "    print('introdiff_exemplar_sample_1659 exits')"
   ]
  },
  {
   "cell_type": "code",
   "execution_count": 115,
   "metadata": {},
   "outputs": [],
   "source": [
    "for k,v in dict_id_introdiff_exemplar_1659.items():\n",
    "    temp = (k,v)\n",
    "    try:\n",
    "        c2.execute('insert into introdiff_exemplar_sample_1659 values (?,?)',temp)\n",
    "        conn2.commit()\n",
    "    except:\n",
    "        print('error: {}'.format(k))"
   ]
  },
  {
   "cell_type": "code",
   "execution_count": 116,
   "metadata": {},
   "outputs": [],
   "source": [
    "# # 存到文档\n",
    "# df_introdiff_exemplar.to_csv(os.path.join(datapath,'introdiff_exemplar_sample_1659.csv'))"
   ]
  },
  {
   "cell_type": "code",
   "execution_count": 119,
   "metadata": {},
   "outputs": [],
   "source": [
    "df_introdiff_exemplar.rename(columns = {'introdiff':'introdiff_e'},inplace = True)"
   ]
  },
  {
   "cell_type": "code",
   "execution_count": 120,
   "metadata": {},
   "outputs": [],
   "source": [
    "bs_diff_up2 = bs_diff_up.merge(df_introdiff_exemplar,on = 'appleid',how = 'inner')"
   ]
  },
  {
   "cell_type": "code",
   "execution_count": 121,
   "metadata": {},
   "outputs": [],
   "source": [
    "bs_diff_up2.to_csv(os.path.join(datapath,'upload','bs_diff_up.csv'))"
   ]
  },
  {
   "cell_type": "code",
   "execution_count": null,
   "metadata": {},
   "outputs": [],
   "source": []
  }
 ],
 "metadata": {
  "kernelspec": {
   "display_name": "Python 3",
   "language": "python",
   "name": "python3"
  },
  "language_info": {
   "codemirror_mode": {
    "name": "ipython",
    "version": 3
   },
   "file_extension": ".py",
   "mimetype": "text/x-python",
   "name": "python",
   "nbconvert_exporter": "python",
   "pygments_lexer": "ipython3",
   "version": "3.5.2"
  }
 },
 "nbformat": 4,
 "nbformat_minor": 2
}
