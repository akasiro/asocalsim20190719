{
 "cells": [
  {
   "cell_type": "code",
   "execution_count": 90,
   "metadata": {},
   "outputs": [],
   "source": [
    "import pandas as pd\n",
    "import numpy as np\n",
    "import sqlite3,os,re,jieba,pickle,joblib\n",
    "from cal_tfidf import *"
   ]
  },
  {
   "cell_type": "code",
   "execution_count": 2,
   "metadata": {},
   "outputs": [],
   "source": [
    "datapath = os.path.join('..','data','20190710')"
   ]
  },
  {
   "cell_type": "code",
   "execution_count": 3,
   "metadata": {},
   "outputs": [],
   "source": [
    "def save_joblib(obj,name):\n",
    "    with open(name+'.pkl','wb') as f:\n",
    "        joblib.dump(obj,f)\n",
    "def load_joblib(name):\n",
    "    with open(name+'.pkl','rb') as f:\n",
    "        return joblib.load(f)"
   ]
  },
  {
   "cell_type": "code",
   "execution_count": 4,
   "metadata": {},
   "outputs": [],
   "source": [
    "conn = sqlite3.connect(os.path.join(datapath,'aso20190710.db'))\n",
    "sqlcode_bitd = \"select * from baseinfo_td\"\n",
    "sqlcode_ver = 'select * from version'\n",
    "bs = pd.read_sql(sqlcode_bitd, conn)"
   ]
  },
  {
   "cell_type": "code",
   "execution_count": 5,
   "metadata": {},
   "outputs": [],
   "source": [
    "mergepkg = pd.read_csv(os.path.join(datapath,'merpkg1zuizhong.csv'),encoding = 'gbk')"
   ]
  },
  {
   "cell_type": "code",
   "execution_count": 6,
   "metadata": {},
   "outputs": [
    {
     "name": "stdout",
     "output_type": "stream",
     "text": [
      "(13088, 28)\n",
      "(8031, 8)\n",
      "Index(['appleid', 'appName', 'appType', 'price', 'latestVersion',\n",
      "       'developerFirm', 'developer', 'tags', 'releaseDate', 'lastestDate',\n",
      "       'bundleId', 'lastestVer', 'size', 'payInApp', 'support',\n",
      "       'compatibility', 'lang', 'contentRank', 'artistname', 'samepubappnum',\n",
      "       'samepubapplist', 'samepubapplistid', 'introcontent', 'type_code_TD',\n",
      "       'pkgName', 'type_TD', 'qimaiId', 'rdtimestamp'],\n",
      "      dtype='object')\n",
      "Index(['Unnamed: 0', 'type_code', 'pkgName', 'type', 'appleid', 'qimaiId',\n",
      "       'bundleId', 'appName'],\n",
      "      dtype='object')\n"
     ]
    }
   ],
   "source": [
    "print(bs.shape)\n",
    "print(mergepkg.shape)\n",
    "print(bs.columns)\n",
    "print(mergepkg.columns)"
   ]
  },
  {
   "cell_type": "code",
   "execution_count": 7,
   "metadata": {},
   "outputs": [],
   "source": [
    "bs2 = bs.drop(columns = ['type_code_TD','pkgName', 'type_TD', 'qimaiId'],axis = 1)\n",
    "mergepkg2 = mergepkg.drop(columns = ['qimaiId','bundleId', 'appName'],axis = 1)\n",
    "mergepkg2['appleid'] = pd.to_numeric(mergepkg2['appleid'], errors='coerce')\n",
    "mergepkg2 = mergepkg2.dropna(subset = ['appleid'])"
   ]
  },
  {
   "cell_type": "code",
   "execution_count": 8,
   "metadata": {},
   "outputs": [
    {
     "name": "stdout",
     "output_type": "stream",
     "text": [
      "(13088, 24)\n",
      "Index(['appleid', 'appName', 'appType', 'price', 'latestVersion',\n",
      "       'developerFirm', 'developer', 'tags', 'releaseDate', 'lastestDate',\n",
      "       'bundleId', 'lastestVer', 'size', 'payInApp', 'support',\n",
      "       'compatibility', 'lang', 'contentRank', 'artistname', 'samepubappnum',\n",
      "       'samepubapplist', 'samepubapplistid', 'introcontent', 'rdtimestamp'],\n",
      "      dtype='object')\n",
      "(4540, 5)\n",
      "Index(['Unnamed: 0', 'type_code', 'pkgName', 'type', 'appleid'], dtype='object')\n"
     ]
    }
   ],
   "source": [
    "print(bs2.shape)\n",
    "print(bs2.columns)\n",
    "print(mergepkg2.shape)\n",
    "print(mergepkg2.columns)"
   ]
  },
  {
   "cell_type": "code",
   "execution_count": 9,
   "metadata": {},
   "outputs": [],
   "source": [
    "bs3 = bs2.copy()\n",
    "bs3['appleid'] = bs3['appleid'].apply(int)\n",
    "mergepkg3 = mergepkg2.copy()\n",
    "mergepkg3['appleid'] = mergepkg3['appleid'].apply(int)"
   ]
  },
  {
   "cell_type": "code",
   "execution_count": 10,
   "metadata": {},
   "outputs": [],
   "source": [
    "bs3pkg = bs3.merge(mergepkg3,on = 'appleid',how = 'inner')\n",
    "bs3pkg = bs3pkg.drop(columns =['Unnamed: 0'])\n",
    "bs3pkg = bs3pkg.reset_index(drop = True)"
   ]
  },
  {
   "cell_type": "code",
   "execution_count": 11,
   "metadata": {},
   "outputs": [
    {
     "name": "stdout",
     "output_type": "stream",
     "text": [
      "(4448, 27)\n",
      "Index(['appleid', 'appName', 'appType', 'price', 'latestVersion',\n",
      "       'developerFirm', 'developer', 'tags', 'releaseDate', 'lastestDate',\n",
      "       'bundleId', 'lastestVer', 'size', 'payInApp', 'support',\n",
      "       'compatibility', 'lang', 'contentRank', 'artistname', 'samepubappnum',\n",
      "       'samepubapplist', 'samepubapplistid', 'introcontent', 'rdtimestamp',\n",
      "       'type_code', 'pkgName', 'type'],\n",
      "      dtype='object')\n"
     ]
    }
   ],
   "source": [
    "print(bs3pkg.shape)\n",
    "print(bs3pkg.columns)"
   ]
  },
  {
   "cell_type": "code",
   "execution_count": 12,
   "metadata": {},
   "outputs": [
    {
     "data": {
      "text/html": [
       "<div>\n",
       "<style scoped>\n",
       "    .dataframe tbody tr th:only-of-type {\n",
       "        vertical-align: middle;\n",
       "    }\n",
       "\n",
       "    .dataframe tbody tr th {\n",
       "        vertical-align: top;\n",
       "    }\n",
       "\n",
       "    .dataframe thead th {\n",
       "        text-align: right;\n",
       "    }\n",
       "</style>\n",
       "<table border=\"1\" class=\"dataframe\">\n",
       "  <thead>\n",
       "    <tr style=\"text-align: right;\">\n",
       "      <th></th>\n",
       "      <th>appleid</th>\n",
       "      <th>appName</th>\n",
       "      <th>appType</th>\n",
       "      <th>price</th>\n",
       "      <th>latestVersion</th>\n",
       "      <th>developerFirm</th>\n",
       "      <th>developer</th>\n",
       "      <th>tags</th>\n",
       "      <th>releaseDate</th>\n",
       "      <th>lastestDate</th>\n",
       "      <th>...</th>\n",
       "      <th>contentRank</th>\n",
       "      <th>artistname</th>\n",
       "      <th>samepubappnum</th>\n",
       "      <th>samepubapplist</th>\n",
       "      <th>samepubapplistid</th>\n",
       "      <th>introcontent</th>\n",
       "      <th>rdtimestamp</th>\n",
       "      <th>type_code</th>\n",
       "      <th>pkgName</th>\n",
       "      <th>type</th>\n",
       "    </tr>\n",
       "  </thead>\n",
       "  <tbody>\n",
       "    <tr>\n",
       "      <th>0</th>\n",
       "      <td>281736535</td>\n",
       "      <td>Enigmo</td>\n",
       "      <td>游戏</td>\n",
       "      <td>¥12.00</td>\n",
       "      <td>2017-11-17</td>\n",
       "      <td>Pangea Software, Inc.</td>\n",
       "      <td>Pangea Software, Inc.</td>\n",
       "      <td>游戏、智力游戏、娱乐、街机游戏</td>\n",
       "      <td>2008年07月11日</td>\n",
       "      <td>2017年11月17日</td>\n",
       "      <td>...</td>\n",
       "      <td>4+</td>\n",
       "      <td>Pangea Software, Inc.</td>\n",
       "      <td>23</td>\n",
       "      <td>PangeaVR HD|Air Wings Intergalactic|Air Wings®...</td>\n",
       "      <td>373454824|590972134|496386846|298032129|288713...</td>\n",
       "      <td>•NETWORKEDMULTIPLAYERMODEWITHGAMECENTER!•Voted...</td>\n",
       "      <td>1215705600</td>\n",
       "      <td>T200200</td>\n",
       "      <td>com.westlake.enigmo</td>\n",
       "      <td>冒险游戏</td>\n",
       "    </tr>\n",
       "    <tr>\n",
       "      <th>1</th>\n",
       "      <td>307751675</td>\n",
       "      <td>PopStar!消灭星星</td>\n",
       "      <td>游戏</td>\n",
       "      <td>¥6.00</td>\n",
       "      <td>2015-10-22</td>\n",
       "      <td>Zplay (Beijing) Info. Tech. Co.,Ltd.</td>\n",
       "      <td>ZPLAY</td>\n",
       "      <td>游戏、智力游戏、桌面游戏、娱乐</td>\n",
       "      <td>2009年10月23日</td>\n",
       "      <td>2015年10月22日</td>\n",
       "      <td>...</td>\n",
       "      <td>4+</td>\n",
       "      <td>ZPLAY</td>\n",
       "      <td>80</td>\n",
       "      <td>BB弹 -全民街机打砖块|CC弹-别动我大象|弹弹猫|环形世界|PopStar! 消灭星星L...</td>\n",
       "      <td>1088720922|1107521460|1077670526|1071748533|35...</td>\n",
       "      <td>亲爱的PopStar!消灭星星的玩家，请将您对此版本的意见和所用设备反馈到我们的微信订阅号中...</td>\n",
       "      <td>1256227200</td>\n",
       "      <td>T201300</td>\n",
       "      <td>ast.game.popstar</td>\n",
       "      <td>休闲游戏</td>\n",
       "    </tr>\n",
       "  </tbody>\n",
       "</table>\n",
       "<p>2 rows × 27 columns</p>\n",
       "</div>"
      ],
      "text/plain": [
       "     appleid       appName appType   price latestVersion  \\\n",
       "0  281736535        Enigmo      游戏  ¥12.00    2017-11-17   \n",
       "1  307751675  PopStar!消灭星星      游戏   ¥6.00    2015-10-22   \n",
       "\n",
       "                          developerFirm              developer  \\\n",
       "0                 Pangea Software, Inc.  Pangea Software, Inc.   \n",
       "1  Zplay (Beijing) Info. Tech. Co.,Ltd.                  ZPLAY   \n",
       "\n",
       "              tags  releaseDate  lastestDate  ... contentRank  \\\n",
       "0  游戏、智力游戏、娱乐、街机游戏  2008年07月11日  2017年11月17日  ...          4+   \n",
       "1  游戏、智力游戏、桌面游戏、娱乐  2009年10月23日  2015年10月22日  ...          4+   \n",
       "\n",
       "              artistname samepubappnum  \\\n",
       "0  Pangea Software, Inc.            23   \n",
       "1                  ZPLAY            80   \n",
       "\n",
       "                                      samepubapplist  \\\n",
       "0  PangeaVR HD|Air Wings Intergalactic|Air Wings®...   \n",
       "1  BB弹 -全民街机打砖块|CC弹-别动我大象|弹弹猫|环形世界|PopStar! 消灭星星L...   \n",
       "\n",
       "                                    samepubapplistid  \\\n",
       "0  373454824|590972134|496386846|298032129|288713...   \n",
       "1  1088720922|1107521460|1077670526|1071748533|35...   \n",
       "\n",
       "                                        introcontent rdtimestamp type_code  \\\n",
       "0  •NETWORKEDMULTIPLAYERMODEWITHGAMECENTER!•Voted...  1215705600   T200200   \n",
       "1  亲爱的PopStar!消灭星星的玩家，请将您对此版本的意见和所用设备反馈到我们的微信订阅号中...  1256227200   T201300   \n",
       "\n",
       "               pkgName  type  \n",
       "0  com.westlake.enigmo  冒险游戏  \n",
       "1     ast.game.popstar  休闲游戏  \n",
       "\n",
       "[2 rows x 27 columns]"
      ]
     },
     "execution_count": 12,
     "metadata": {},
     "output_type": "execute_result"
    }
   ],
   "source": [
    "bs3pkg.head(2)"
   ]
  },
  {
   "cell_type": "code",
   "execution_count": 13,
   "metadata": {},
   "outputs": [
    {
     "name": "stdout",
     "output_type": "stream",
     "text": [
      "样本中的appleid个数为： 1675\n"
     ]
    }
   ],
   "source": [
    "appleid_num = len(set(bs3pkg['appleid'].values.tolist()))\n",
    "print('样本中的appleid个数为： {}'.format(appleid_num))"
   ]
  },
  {
   "cell_type": "code",
   "execution_count": 14,
   "metadata": {},
   "outputs": [
    {
     "data": {
      "text/plain": [
       "type_code\n",
       "T200100    110\n",
       "T200200     64\n",
       "T200300     49\n",
       "T200400     59\n",
       "T200500     28\n",
       "T200600     95\n",
       "T200700      9\n",
       "T200800     13\n",
       "T200900     46\n",
       "T201000      2\n",
       "T201100      3\n",
       "T201200     26\n",
       "T201300    322\n",
       "T201400     73\n",
       "T201500      2\n",
       "T201600    226\n",
       "T201700    212\n",
       "T201800     34\n",
       "T201900    158\n",
       "T202000    235\n",
       "Name: appleid, dtype: int64"
      ]
     },
     "execution_count": 14,
     "metadata": {},
     "output_type": "execute_result"
    }
   ],
   "source": [
    "appleidgroup = bs3pkg['appleid'].groupby(bs3pkg['type_code'])\n",
    "table_category_num = appleidgroup.agg('nunique')\n",
    "table_category_num"
   ]
  },
  {
   "cell_type": "markdown",
   "metadata": {},
   "source": [
    "# 保存数据到database"
   ]
  },
  {
   "cell_type": "code",
   "execution_count": 15,
   "metadata": {},
   "outputs": [],
   "source": [
    "conn2 = sqlite3.connect(os.path.join(datapath,'aso20190719.db'))\n",
    "c2 = conn2.cursor()"
   ]
  },
  {
   "cell_type": "code",
   "execution_count": 16,
   "metadata": {},
   "outputs": [
    {
     "name": "stdout",
     "output_type": "stream",
     "text": [
      "baseinfo_sample_1675 exits\n"
     ]
    }
   ],
   "source": [
    "try:\n",
    "    c2.execute('''create table baseinfo_sample_1675\n",
    "    (tableindex integer primary key,\n",
    "    appleid integer,\n",
    "    appName varchar(50),\n",
    "    appType varchar(10),\n",
    "    price varchar(10),\n",
    "    latestVersion varchar(20),\n",
    "    developerFirm varchar(50),\n",
    "    developer varchar(50),\n",
    "    tags varchar(50),\n",
    "    releaseDate varchar(20),\n",
    "    lastestDate varchar(20),\n",
    "    bundleId varchar(50),\n",
    "    lastestVer varchar(20),\n",
    "    size varchar(10),\n",
    "    payInApp varchar(10),\n",
    "    support varchar(20),\n",
    "    compatibility varchar(50),\n",
    "    lang varchar(20),\n",
    "    contentRank varchar(10),\n",
    "    artistname varchar(50),\n",
    "    samepubappnum integer,\n",
    "    samepubapplist text,\n",
    "    samepubapplistid text,\n",
    "    introcontent text,\n",
    "    rdtimestamp integer,\n",
    "    type_code varchar(20),\n",
    "    pkgName varchar(50),\n",
    "    type varchar(20))''')\n",
    "    conn2.commit()\n",
    "    print('baseinfo_sample_1675 create')\n",
    "except:\n",
    "    print('baseinfo_sample_1675 exits')"
   ]
  },
  {
   "cell_type": "code",
   "execution_count": 17,
   "metadata": {
    "scrolled": false
   },
   "outputs": [],
   "source": [
    "# # 存入数据库\n",
    "# for r in bs3pkg.itertuples():\n",
    "#     temp = tuple([i for i in r])\n",
    "#     try:\n",
    "#         c2.execute('insert into baseinfo_sample_1675 values (?,?,?,?,?,?,?,?,?,?,?,?,?,?,?,?,?,?,?,?,?,?,?,?,?,?,?,?)',temp)\n",
    "#         conn2.commit()\n",
    "#     except:\n",
    "#         print('error: {}'.format(getattr(r,'appleid')))"
   ]
  },
  {
   "cell_type": "code",
   "execution_count": 18,
   "metadata": {},
   "outputs": [],
   "source": [
    "# test = pd.read_sql(\"select * from baseinfo_sample_1675\",conn2)\n",
    "# print(test.shape)\n",
    "# print(test.columns)"
   ]
  },
  {
   "cell_type": "markdown",
   "metadata": {},
   "source": [
    "# 删除掉4个category的数据T200700, T201000, T201100, T201500"
   ]
  },
  {
   "cell_type": "code",
   "execution_count": 19,
   "metadata": {},
   "outputs": [],
   "source": [
    "bs3pkg2 = bs3pkg[~bs3pkg['type_code'].isin(['T200700', 'T201000', 'T201100', 'T201500'])]\n",
    "bs3pkg2 = bs3pkg2.reset_index(drop = True)"
   ]
  },
  {
   "cell_type": "code",
   "execution_count": 20,
   "metadata": {},
   "outputs": [
    {
     "name": "stdout",
     "output_type": "stream",
     "text": [
      "(4420, 27)\n",
      "Index(['appleid', 'appName', 'appType', 'price', 'latestVersion',\n",
      "       'developerFirm', 'developer', 'tags', 'releaseDate', 'lastestDate',\n",
      "       'bundleId', 'lastestVer', 'size', 'payInApp', 'support',\n",
      "       'compatibility', 'lang', 'contentRank', 'artistname', 'samepubappnum',\n",
      "       'samepubapplist', 'samepubapplistid', 'introcontent', 'rdtimestamp',\n",
      "       'type_code', 'pkgName', 'type'],\n",
      "      dtype='object')\n"
     ]
    }
   ],
   "source": [
    "print(bs3pkg2.shape)\n",
    "print(bs3pkg2.columns)"
   ]
  },
  {
   "cell_type": "code",
   "execution_count": 21,
   "metadata": {},
   "outputs": [
    {
     "name": "stdout",
     "output_type": "stream",
     "text": [
      "baseinfo_sample_1659 exits\n"
     ]
    }
   ],
   "source": [
    "try:\n",
    "    c2.execute('''create table baseinfo_sample_1659\n",
    "    (tableindex integer primary key,\n",
    "    appleid integer,\n",
    "    appName varchar(50),\n",
    "    appType varchar(10),\n",
    "    price varchar(10),\n",
    "    latestVersion varchar(20),\n",
    "    developerFirm varchar(50),\n",
    "    developer varchar(50),\n",
    "    tags varchar(50),\n",
    "    releaseDate varchar(20),\n",
    "    lastestDate varchar(20),\n",
    "    bundleId varchar(50),\n",
    "    lastestVer varchar(20),\n",
    "    size varchar(10),\n",
    "    payInApp varchar(10),\n",
    "    support varchar(20),\n",
    "    compatibility varchar(50),\n",
    "    lang varchar(20),\n",
    "    contentRank varchar(10),\n",
    "    artistname varchar(50),\n",
    "    samepubappnum integer,\n",
    "    samepubapplist text,\n",
    "    samepubapplistid text,\n",
    "    introcontent text,\n",
    "    rdtimestamp integer,\n",
    "    type_code varchar(20),\n",
    "    pkgName varchar(50),\n",
    "    type varchar(20))''')\n",
    "    conn2.commit()\n",
    "    print('baseinfo_sample_1659 create')\n",
    "except:\n",
    "    print('baseinfo_sample_1659 exits')"
   ]
  },
  {
   "cell_type": "code",
   "execution_count": 22,
   "metadata": {},
   "outputs": [],
   "source": [
    "# # 存入数据库\n",
    "# for r in bs3pkg2.itertuples():\n",
    "#     temp = tuple([i for i in r])\n",
    "#     try:\n",
    "#         c2.execute('insert into baseinfo_sample_1659 values (?,?,?,?,?,?,?,?,?,?,?,?,?,?,?,?,?,?,?,?,?,?,?,?,?,?,?,?)',temp)\n",
    "#         conn2.commit()\n",
    "#     except:\n",
    "#         print('error: {}'.format(getattr(r,'appleid')))"
   ]
  },
  {
   "cell_type": "markdown",
   "metadata": {},
   "source": [
    "# 提取出typecode和appleid的对应关系，保存到pickle"
   ]
  },
  {
   "cell_type": "code",
   "execution_count": 23,
   "metadata": {},
   "outputs": [],
   "source": [
    "type_code = list(set(bs3pkg2['type_code'].values.tolist()))\n",
    "dict_type_code_id = {}\n",
    "for i in type_code:\n",
    "    temp = bs3pkg2[bs3pkg2['type_code'].isin([i])]\n",
    "    tempappleidlist = list(set(temp['appleid'].values.tolist()))\n",
    "    dict_type_code_id[i] = tempappleidlist"
   ]
  },
  {
   "cell_type": "code",
   "execution_count": 24,
   "metadata": {},
   "outputs": [
    {
     "name": "stdout",
     "output_type": "stream",
     "text": [
      "T201700：212\n",
      "T201600：226\n",
      "T200200：64\n",
      "T200900：46\n",
      "T200500：28\n",
      "T200400：59\n",
      "T200600：95\n",
      "T201400：73\n",
      "T202000：235\n",
      "T201300：322\n",
      "T200800：13\n",
      "T200100：110\n",
      "T200300：49\n",
      "T201800：34\n",
      "T201900：158\n",
      "T201200：26\n"
     ]
    }
   ],
   "source": [
    "for k,v in dict_type_code_id.items():\n",
    "    print(k + '：'+str(len(v)))"
   ]
  },
  {
   "cell_type": "code",
   "execution_count": 25,
   "metadata": {},
   "outputs": [],
   "source": [
    "# # 存一下对应关系\n",
    "# with open(os.path.join(datapath,'dict_type_id_1659.pkl'), 'wb') as f:\n",
    "#     pickle.dump(dict_type_code_id,f,pickle.HIGHEST_PROTOCOL)"
   ]
  },
  {
   "cell_type": "markdown",
   "metadata": {},
   "source": [
    "# 计算根据intro的tfidf相似度"
   ]
  },
  {
   "cell_type": "code",
   "execution_count": 26,
   "metadata": {},
   "outputs": [],
   "source": [
    "# 读取数据\n",
    "intro_appleid = load_joblib(os.path.join(datapath,'dict_intro'))"
   ]
  },
  {
   "cell_type": "code",
   "execution_count": 27,
   "metadata": {},
   "outputs": [
    {
     "name": "stdout",
     "output_type": "stream",
     "text": [
      "1226962741\n",
      "['聚游', '湖南', '麻将', '一款', '休闲类', '棋牌', '游戏', '时尚', '简约', '棋牌', '画面', '真人', '实时', '对战', '玩法', '陪伴']\n"
     ]
    }
   ],
   "source": [
    "for k,v in intro_appleid.items():\n",
    "    print(k)\n",
    "    print(v)\n",
    "    break"
   ]
  },
  {
   "cell_type": "code",
   "execution_count": 29,
   "metadata": {},
   "outputs": [],
   "source": [
    "baselistoftextlist = []\n",
    "dict_idinsim_typecode = {}\n",
    "i = 0\n",
    "for k in dict_type_code_id:\n",
    "    dict_idinsim_typecode[k] = i\n",
    "    templist = dict_type_code_id[k]\n",
    "    temptextlist = []\n",
    "    for j in templist:\n",
    "        try:\n",
    "            temptextlist += intro_appleid[str(j)]\n",
    "        except:\n",
    "            continue\n",
    "    baselistoftextlist.append(temptextlist)\n",
    "    i += 1"
   ]
  },
  {
   "cell_type": "code",
   "execution_count": 30,
   "metadata": {},
   "outputs": [],
   "source": [
    "# save_joblib(baselistoftextlist,os.path.join(datapath,'listoftextlist_proto_1659'))\n",
    "# save_joblib(dict_idinsim_typecode,os.path.join(datapath,'dict_idinsim_proto_1659'))"
   ]
  },
  {
   "cell_type": "code",
   "execution_count": 31,
   "metadata": {},
   "outputs": [],
   "source": [
    "tfidfmodel_proto_1659 = tfidfmodel_cal(baselistoftextlist)"
   ]
  },
  {
   "cell_type": "code",
   "execution_count": 61,
   "metadata": {},
   "outputs": [],
   "source": [
    "dict_id_introdiff_proto_1659 = {}\n",
    "for t in dict_type_code_id:\n",
    "    for i in dict_type_code_id[t]:\n",
    "        try:\n",
    "            textlist = intro_appleid[str(i)]\n",
    "            tempsim = tfidfmodel_proto_1659.cal_tfidf(textlist,dict_idinsim_typecode[t])\n",
    "            tempdiff = 1-tempsim\n",
    "            dict_id_introdiff_proto_1659[i] = tempdiff\n",
    "        except:\n",
    "            continue"
   ]
  },
  {
   "cell_type": "code",
   "execution_count": 62,
   "metadata": {},
   "outputs": [],
   "source": [
    "# # 保存一下id与战略差异的对应关系\n",
    "# save_joblib(dict_id_introdiff_proto_1659,os.path.join(datapath,'dict_id_introdiff_proto_1659'))"
   ]
  },
  {
   "cell_type": "code",
   "execution_count": 63,
   "metadata": {},
   "outputs": [],
   "source": [
    "df_introdiff = pd.DataFrame({'appleid':[k for k in dict_id_introdiff_proto_1659],'introdiff':[dict_id_introdiff_proto_1659[k] for k in dict_id_introsim_proto_1659]})"
   ]
  },
  {
   "cell_type": "code",
   "execution_count": 64,
   "metadata": {},
   "outputs": [
    {
     "data": {
      "text/plain": [
       "(1476, 2)"
      ]
     },
     "execution_count": 64,
     "metadata": {},
     "output_type": "execute_result"
    }
   ],
   "source": [
    "df_introdiff.shape"
   ]
  },
  {
   "cell_type": "code",
   "execution_count": 65,
   "metadata": {},
   "outputs": [
    {
     "data": {
      "text/html": [
       "<div>\n",
       "<style scoped>\n",
       "    .dataframe tbody tr th:only-of-type {\n",
       "        vertical-align: middle;\n",
       "    }\n",
       "\n",
       "    .dataframe tbody tr th {\n",
       "        vertical-align: top;\n",
       "    }\n",
       "\n",
       "    .dataframe thead th {\n",
       "        text-align: right;\n",
       "    }\n",
       "</style>\n",
       "<table border=\"1\" class=\"dataframe\">\n",
       "  <thead>\n",
       "    <tr style=\"text-align: right;\">\n",
       "      <th></th>\n",
       "      <th>appleid</th>\n",
       "      <th>introdiff</th>\n",
       "    </tr>\n",
       "  </thead>\n",
       "  <tbody>\n",
       "    <tr>\n",
       "      <th>0</th>\n",
       "      <td>1097465856</td>\n",
       "      <td>0.663639</td>\n",
       "    </tr>\n",
       "    <tr>\n",
       "      <th>1</th>\n",
       "      <td>524509185</td>\n",
       "      <td>0.924966</td>\n",
       "    </tr>\n",
       "    <tr>\n",
       "      <th>2</th>\n",
       "      <td>838193156</td>\n",
       "      <td>0.843238</td>\n",
       "    </tr>\n",
       "    <tr>\n",
       "      <th>3</th>\n",
       "      <td>1228587014</td>\n",
       "      <td>0.859037</td>\n",
       "    </tr>\n",
       "    <tr>\n",
       "      <th>4</th>\n",
       "      <td>1054990344</td>\n",
       "      <td>0.865313</td>\n",
       "    </tr>\n",
       "  </tbody>\n",
       "</table>\n",
       "</div>"
      ],
      "text/plain": [
       "      appleid  introdiff\n",
       "0  1097465856   0.663639\n",
       "1   524509185   0.924966\n",
       "2   838193156   0.843238\n",
       "3  1228587014   0.859037\n",
       "4  1054990344   0.865313"
      ]
     },
     "execution_count": 65,
     "metadata": {},
     "output_type": "execute_result"
    }
   ],
   "source": [
    "df_introdiff.head()"
   ]
  },
  {
   "cell_type": "code",
   "execution_count": 66,
   "metadata": {},
   "outputs": [
    {
     "name": "stdout",
     "output_type": "stream",
     "text": [
      "introdiff_prototype_sample_1659 create\n"
     ]
    }
   ],
   "source": [
    "# 存到数据库\n",
    "try:\n",
    "    c2.execute('''create table introdiff_prototype_sample_1659\n",
    "    (appleid integer primary key,\n",
    "    introdiff numeric)''')\n",
    "    conn2.commit()\n",
    "    print('introdiff_prototype_sample_1659 create')\n",
    "except:\n",
    "    print('introdiff_prototype_sample_1659 exits')"
   ]
  },
  {
   "cell_type": "code",
   "execution_count": 68,
   "metadata": {},
   "outputs": [],
   "source": [
    "# for k,v in dict_id_introdiff_proto_1659.items():\n",
    "#     temp = (k,v)\n",
    "#     try:\n",
    "#         c2.execute('insert into introdiff_prototype_sample_1659 values (?,?)',temp)\n",
    "#         conn2.commit()\n",
    "#     except:\n",
    "#         print('error: {}'.format(k))"
   ]
  },
  {
   "cell_type": "code",
   "execution_count": 69,
   "metadata": {},
   "outputs": [
    {
     "name": "stdout",
     "output_type": "stream",
     "text": [
      "(1476, 2)\n",
      "Index(['appleid', 'introdiff'], dtype='object')\n",
      "     appleid  introdiff\n",
      "0  307751675   0.820942\n",
      "1  342994828   0.961500\n",
      "2  343200656   0.878637\n",
      "3  359917414   0.872872\n",
      "4  362949845   0.930567\n"
     ]
    }
   ],
   "source": [
    "# test = pd.read_sql(\"select * from introdiff_prototype_sample_1659\",conn2)\n",
    "# print(test.shape)\n",
    "# print(test.columns)\n",
    "# print(test.head(5))"
   ]
  },
  {
   "cell_type": "code",
   "execution_count": 70,
   "metadata": {},
   "outputs": [],
   "source": [
    "# # 存到文档\n",
    "# df_introdiff.to_csv(os.path.join(datapath,'introdiff_prototype_sample_1659.csv'))"
   ]
  },
  {
   "cell_type": "markdown",
   "metadata": {},
   "source": [
    "# 制作需要上传的文件"
   ]
  },
  {
   "cell_type": "code",
   "execution_count": 73,
   "metadata": {},
   "outputs": [],
   "source": [
    "mergepkg_up = bs3pkg2[['appleid','pkgName']].drop_duplicates()"
   ]
  },
  {
   "cell_type": "code",
   "execution_count": 74,
   "metadata": {},
   "outputs": [
    {
     "name": "stdout",
     "output_type": "stream",
     "text": [
      "(4420, 2)\n"
     ]
    }
   ],
   "source": [
    "print(mergepkg_up.shape)"
   ]
  },
  {
   "cell_type": "code",
   "execution_count": 75,
   "metadata": {},
   "outputs": [],
   "source": [
    "mergepkg_up.to_csv(os.path.join(datapath,'upload','mergepkg_up.csv'))"
   ]
  },
  {
   "cell_type": "code",
   "execution_count": 84,
   "metadata": {},
   "outputs": [],
   "source": [
    "baseinfo_up = bs3pkg2[['appleid','price','size', 'payInApp', 'samepubappnum','rdtimestamp']].drop_duplicates()"
   ]
  },
  {
   "cell_type": "code",
   "execution_count": 85,
   "metadata": {},
   "outputs": [
    {
     "name": "stdout",
     "output_type": "stream",
     "text": [
      "(1661, 6)\n"
     ]
    }
   ],
   "source": [
    "print(baseinfo_up.shape)"
   ]
  },
  {
   "cell_type": "code",
   "execution_count": 86,
   "metadata": {},
   "outputs": [
    {
     "data": {
      "text/html": [
       "<div>\n",
       "<style scoped>\n",
       "    .dataframe tbody tr th:only-of-type {\n",
       "        vertical-align: middle;\n",
       "    }\n",
       "\n",
       "    .dataframe tbody tr th {\n",
       "        vertical-align: top;\n",
       "    }\n",
       "\n",
       "    .dataframe thead th {\n",
       "        text-align: right;\n",
       "    }\n",
       "</style>\n",
       "<table border=\"1\" class=\"dataframe\">\n",
       "  <thead>\n",
       "    <tr style=\"text-align: right;\">\n",
       "      <th></th>\n",
       "      <th>appleid</th>\n",
       "      <th>price</th>\n",
       "      <th>size</th>\n",
       "      <th>payInApp</th>\n",
       "      <th>samepubappnum</th>\n",
       "      <th>rdtimestamp</th>\n",
       "    </tr>\n",
       "  </thead>\n",
       "  <tbody>\n",
       "    <tr>\n",
       "      <th>0</th>\n",
       "      <td>281736535</td>\n",
       "      <td>¥12.00</td>\n",
       "      <td>23.06 MB</td>\n",
       "      <td>是</td>\n",
       "      <td>23</td>\n",
       "      <td>1215705600</td>\n",
       "    </tr>\n",
       "    <tr>\n",
       "      <th>1</th>\n",
       "      <td>307751675</td>\n",
       "      <td>¥6.00</td>\n",
       "      <td>12.82 MB</td>\n",
       "      <td>是</td>\n",
       "      <td>80</td>\n",
       "      <td>1256227200</td>\n",
       "    </tr>\n",
       "    <tr>\n",
       "      <th>2</th>\n",
       "      <td>328992396</td>\n",
       "      <td>¥6.00</td>\n",
       "      <td>57.18 MB</td>\n",
       "      <td>否</td>\n",
       "      <td>19</td>\n",
       "      <td>1256227200</td>\n",
       "    </tr>\n",
       "    <tr>\n",
       "      <th>3</th>\n",
       "      <td>342994828</td>\n",
       "      <td>免费</td>\n",
       "      <td>41.5 MB</td>\n",
       "      <td>否</td>\n",
       "      <td>208</td>\n",
       "      <td>1260806400</td>\n",
       "    </tr>\n",
       "    <tr>\n",
       "      <th>6</th>\n",
       "      <td>343200656</td>\n",
       "      <td>免费</td>\n",
       "      <td>155.18 MB</td>\n",
       "      <td>是</td>\n",
       "      <td>25</td>\n",
       "      <td>1260460800</td>\n",
       "    </tr>\n",
       "  </tbody>\n",
       "</table>\n",
       "</div>"
      ],
      "text/plain": [
       "     appleid   price       size payInApp  samepubappnum  rdtimestamp\n",
       "0  281736535  ¥12.00   23.06 MB        是             23   1215705600\n",
       "1  307751675   ¥6.00   12.82 MB        是             80   1256227200\n",
       "2  328992396   ¥6.00   57.18 MB        否             19   1256227200\n",
       "3  342994828      免费    41.5 MB        否            208   1260806400\n",
       "6  343200656      免费  155.18 MB        是             25   1260460800"
      ]
     },
     "execution_count": 86,
     "metadata": {},
     "output_type": "execute_result"
    }
   ],
   "source": [
    "baseinfo_up.head()"
   ]
  },
  {
   "cell_type": "code",
   "execution_count": 97,
   "metadata": {},
   "outputs": [],
   "source": [
    "def price_to_float(text):\n",
    "    if '免费' in text:\n",
    "        price = float(0)\n",
    "    elif '¥' in text:\n",
    "        price = float(text.replace('¥',\"\"))\n",
    "    else:\n",
    "        price = np.nan\n",
    "baseinfo_up2 = baseinfo_up.copy()\n",
    "baseinfo_up2['free'] = baseinfo_up2['price'].apply(lambda x: 1 if '免费' in x else 0)\n",
    "baseinfo_up2['size'] = baseinfo_up2['size'].apply(lambda x: float(x.replace(' MB',\"\")))\n",
    "baseinfo_up2['payInApp'] = baseinfo_up2['payInApp'].apply(lambda x: 1 if x == '是' else 0)\n",
    "baseinfo_up2['age20161231'] = baseinfo_up2['rdtimestamp'].apply(lambda x: 1483200000-x)"
   ]
  },
  {
   "cell_type": "code",
   "execution_count": 98,
   "metadata": {},
   "outputs": [
    {
     "data": {
      "text/html": [
       "<div>\n",
       "<style scoped>\n",
       "    .dataframe tbody tr th:only-of-type {\n",
       "        vertical-align: middle;\n",
       "    }\n",
       "\n",
       "    .dataframe tbody tr th {\n",
       "        vertical-align: top;\n",
       "    }\n",
       "\n",
       "    .dataframe thead th {\n",
       "        text-align: right;\n",
       "    }\n",
       "</style>\n",
       "<table border=\"1\" class=\"dataframe\">\n",
       "  <thead>\n",
       "    <tr style=\"text-align: right;\">\n",
       "      <th></th>\n",
       "      <th>appleid</th>\n",
       "      <th>price</th>\n",
       "      <th>size</th>\n",
       "      <th>payInApp</th>\n",
       "      <th>samepubappnum</th>\n",
       "      <th>rdtimestamp</th>\n",
       "      <th>free</th>\n",
       "      <th>age20161231</th>\n",
       "    </tr>\n",
       "  </thead>\n",
       "  <tbody>\n",
       "    <tr>\n",
       "      <th>0</th>\n",
       "      <td>281736535</td>\n",
       "      <td>¥12.00</td>\n",
       "      <td>23.06</td>\n",
       "      <td>1</td>\n",
       "      <td>23</td>\n",
       "      <td>1215705600</td>\n",
       "      <td>0</td>\n",
       "      <td>267494400</td>\n",
       "    </tr>\n",
       "    <tr>\n",
       "      <th>1</th>\n",
       "      <td>307751675</td>\n",
       "      <td>¥6.00</td>\n",
       "      <td>12.82</td>\n",
       "      <td>1</td>\n",
       "      <td>80</td>\n",
       "      <td>1256227200</td>\n",
       "      <td>0</td>\n",
       "      <td>226972800</td>\n",
       "    </tr>\n",
       "    <tr>\n",
       "      <th>2</th>\n",
       "      <td>328992396</td>\n",
       "      <td>¥6.00</td>\n",
       "      <td>57.18</td>\n",
       "      <td>0</td>\n",
       "      <td>19</td>\n",
       "      <td>1256227200</td>\n",
       "      <td>0</td>\n",
       "      <td>226972800</td>\n",
       "    </tr>\n",
       "    <tr>\n",
       "      <th>3</th>\n",
       "      <td>342994828</td>\n",
       "      <td>免费</td>\n",
       "      <td>41.50</td>\n",
       "      <td>0</td>\n",
       "      <td>208</td>\n",
       "      <td>1260806400</td>\n",
       "      <td>1</td>\n",
       "      <td>222393600</td>\n",
       "    </tr>\n",
       "    <tr>\n",
       "      <th>6</th>\n",
       "      <td>343200656</td>\n",
       "      <td>免费</td>\n",
       "      <td>155.18</td>\n",
       "      <td>1</td>\n",
       "      <td>25</td>\n",
       "      <td>1260460800</td>\n",
       "      <td>1</td>\n",
       "      <td>222739200</td>\n",
       "    </tr>\n",
       "  </tbody>\n",
       "</table>\n",
       "</div>"
      ],
      "text/plain": [
       "     appleid   price    size  payInApp  samepubappnum  rdtimestamp  free  \\\n",
       "0  281736535  ¥12.00   23.06         1             23   1215705600     0   \n",
       "1  307751675   ¥6.00   12.82         1             80   1256227200     0   \n",
       "2  328992396   ¥6.00   57.18         0             19   1256227200     0   \n",
       "3  342994828      免费   41.50         0            208   1260806400     1   \n",
       "6  343200656      免费  155.18         1             25   1260460800     1   \n",
       "\n",
       "   age20161231  \n",
       "0    267494400  \n",
       "1    226972800  \n",
       "2    226972800  \n",
       "3    222393600  \n",
       "6    222739200  "
      ]
     },
     "execution_count": 98,
     "metadata": {},
     "output_type": "execute_result"
    }
   ],
   "source": [
    "baseinfo_up2.head()"
   ]
  },
  {
   "cell_type": "code",
   "execution_count": 101,
   "metadata": {},
   "outputs": [],
   "source": [
    "bs_diff_up = baseinfo_up2.merge(df_introdiff,on = 'appleid',how = 'inner')"
   ]
  },
  {
   "cell_type": "code",
   "execution_count": 102,
   "metadata": {},
   "outputs": [
    {
     "name": "stdout",
     "output_type": "stream",
     "text": [
      "(1476, 9)\n",
      "Index(['appleid', 'price', 'size', 'payInApp', 'samepubappnum', 'rdtimestamp',\n",
      "       'free', 'age20161231', 'introdiff'],\n",
      "      dtype='object')\n"
     ]
    }
   ],
   "source": [
    "print(bs_diff_up.shape)\n",
    "print(bs_diff_up.columns)"
   ]
  },
  {
   "cell_type": "code",
   "execution_count": 103,
   "metadata": {},
   "outputs": [
    {
     "data": {
      "text/html": [
       "<div>\n",
       "<style scoped>\n",
       "    .dataframe tbody tr th:only-of-type {\n",
       "        vertical-align: middle;\n",
       "    }\n",
       "\n",
       "    .dataframe tbody tr th {\n",
       "        vertical-align: top;\n",
       "    }\n",
       "\n",
       "    .dataframe thead th {\n",
       "        text-align: right;\n",
       "    }\n",
       "</style>\n",
       "<table border=\"1\" class=\"dataframe\">\n",
       "  <thead>\n",
       "    <tr style=\"text-align: right;\">\n",
       "      <th></th>\n",
       "      <th>appleid</th>\n",
       "      <th>price</th>\n",
       "      <th>size</th>\n",
       "      <th>payInApp</th>\n",
       "      <th>samepubappnum</th>\n",
       "      <th>rdtimestamp</th>\n",
       "      <th>free</th>\n",
       "      <th>age20161231</th>\n",
       "      <th>introdiff</th>\n",
       "    </tr>\n",
       "  </thead>\n",
       "  <tbody>\n",
       "    <tr>\n",
       "      <th>0</th>\n",
       "      <td>307751675</td>\n",
       "      <td>¥6.00</td>\n",
       "      <td>12.82</td>\n",
       "      <td>1</td>\n",
       "      <td>80</td>\n",
       "      <td>1256227200</td>\n",
       "      <td>0</td>\n",
       "      <td>226972800</td>\n",
       "      <td>0.820942</td>\n",
       "    </tr>\n",
       "    <tr>\n",
       "      <th>1</th>\n",
       "      <td>342994828</td>\n",
       "      <td>免费</td>\n",
       "      <td>41.50</td>\n",
       "      <td>0</td>\n",
       "      <td>208</td>\n",
       "      <td>1260806400</td>\n",
       "      <td>1</td>\n",
       "      <td>222393600</td>\n",
       "      <td>0.961500</td>\n",
       "    </tr>\n",
       "    <tr>\n",
       "      <th>2</th>\n",
       "      <td>343200656</td>\n",
       "      <td>免费</td>\n",
       "      <td>155.18</td>\n",
       "      <td>1</td>\n",
       "      <td>25</td>\n",
       "      <td>1260460800</td>\n",
       "      <td>1</td>\n",
       "      <td>222739200</td>\n",
       "      <td>0.878637</td>\n",
       "    </tr>\n",
       "    <tr>\n",
       "      <th>3</th>\n",
       "      <td>359917414</td>\n",
       "      <td>免费</td>\n",
       "      <td>224.04</td>\n",
       "      <td>1</td>\n",
       "      <td>34</td>\n",
       "      <td>1268928000</td>\n",
       "      <td>1</td>\n",
       "      <td>214272000</td>\n",
       "      <td>0.872872</td>\n",
       "    </tr>\n",
       "    <tr>\n",
       "      <th>4</th>\n",
       "      <td>362949845</td>\n",
       "      <td>¥12.00</td>\n",
       "      <td>108.99</td>\n",
       "      <td>1</td>\n",
       "      <td>13</td>\n",
       "      <td>1271779200</td>\n",
       "      <td>0</td>\n",
       "      <td>211420800</td>\n",
       "      <td>0.930567</td>\n",
       "    </tr>\n",
       "  </tbody>\n",
       "</table>\n",
       "</div>"
      ],
      "text/plain": [
       "     appleid   price    size  payInApp  samepubappnum  rdtimestamp  free  \\\n",
       "0  307751675   ¥6.00   12.82         1             80   1256227200     0   \n",
       "1  342994828      免费   41.50         0            208   1260806400     1   \n",
       "2  343200656      免费  155.18         1             25   1260460800     1   \n",
       "3  359917414      免费  224.04         1             34   1268928000     1   \n",
       "4  362949845  ¥12.00  108.99         1             13   1271779200     0   \n",
       "\n",
       "   age20161231  introdiff  \n",
       "0    226972800   0.820942  \n",
       "1    222393600   0.961500  \n",
       "2    222739200   0.878637  \n",
       "3    214272000   0.872872  \n",
       "4    211420800   0.930567  "
      ]
     },
     "execution_count": 103,
     "metadata": {},
     "output_type": "execute_result"
    }
   ],
   "source": [
    "bs_diff_up.head()"
   ]
  },
  {
   "cell_type": "code",
   "execution_count": 105,
   "metadata": {},
   "outputs": [],
   "source": [
    "# bs_diff_up.to_csv(os.path.join(datapath,'upload','bs_diff_up.csv'))"
   ]
  },
  {
   "cell_type": "markdown",
   "metadata": {},
   "source": [
    "# examplar model"
   ]
  },
  {
   "cell_type": "code",
   "execution_count": 106,
   "metadata": {},
   "outputs": [],
   "source": [
    "examplar_t = '672093597,823804745,1187076120,1189889599,343200656,791532221,834878585,880047117,897447840,951557681,954751394,1000619473,1022610807,1027688889,1071360255,1088720922,1120536875,1132481770,1148934777,1170455562,1178890673,1241177378,1006605215,1096974019,434811130,462737588,510582247,543097382,788406144,870091143,879295658,941017209,1068435609,1086871800,1175272674,1175672519,1191729152,1255739625,1255783557,1277061489,1280207637,1411791697,750931425,867465887,1006546980,1021136106,1061847126,1093063463,1099554323,1117273600,1169905294,1178500082,1269408720,737651307,971513085,1000619473,1053012308,1063956349,1089336971,1119059260,1143402987,1190796440,1228515946,1234193448,1237468382,593369632,895670960,910395494,940547441,1015364140,1031897589,1033387365,1088150831,1088753863,1093063463,1094162374,1109303593,1137913384,1140819787,1170455562,1178890673,1189895734,449735650,636369522,703585308,728293409,747314884,1053475918,1190223379,1260127872,1037198513,529479190,639516529,672150402,982428268,1053012308,1088179585,1099554323,1163802135,1178890673,564540143,883393043,966951791,981413101,1073870337,1102657935,1157853911,1188651309,1210593524,479516143,638689075,823804745,913292932,1012950712,1040029515,1077258852,1078806722,1094207590,1179688896,1183701879,1188931520,910395494,820140906,1094162374,1196660667,529479190,793077082,1053012308,1104855278,1117273600,897841116,954252817,954751394,1036661603,1062546241,1089336971,1152854815'\n",
    "examplar = [int(i) for i in examplar_t.split(',')]"
   ]
  },
  {
   "cell_type": "code",
   "execution_count": 126,
   "metadata": {},
   "outputs": [
    {
     "data": {
      "text/plain": [
       "137"
      ]
     },
     "execution_count": 126,
     "metadata": {},
     "output_type": "execute_result"
    }
   ],
   "source": [
    "# save_joblib(examplar,os.path.join(datapath,'exemplar'))\n",
    "len(examplar)"
   ]
  },
  {
   "cell_type": "code",
   "execution_count": 137,
   "metadata": {},
   "outputs": [],
   "source": [
    "baselistoftextlist2 = []\n",
    "dict_idinsim_typecode2 = {}\n",
    "i = 0\n",
    "for k in dict_type_code_id:\n",
    "    dict_idinsim_typecode2[k] = i\n",
    "    templist = dict_type_code_id[k]\n",
    "    temptextlist = []\n",
    "    for j in templist:\n",
    "        if j in examplar:\n",
    "            try:\n",
    "                temptextlist += intro_appleid[str(j)]\n",
    "            except:\n",
    "                continue\n",
    "    baselistoftextlist2.append(temptextlist)\n",
    "    i += 1\n"
   ]
  },
  {
   "cell_type": "code",
   "execution_count": 138,
   "metadata": {},
   "outputs": [],
   "source": [
    "# save_joblib(baselistoftextlist2,os.path.join(datapath,'listoftextlist_exemplar_1659'))\n",
    "# save_joblib(dict_idinsim_typecode2,os.path.join(datapath,'dict_idinsim_exemplar_1659'))"
   ]
  },
  {
   "cell_type": "code",
   "execution_count": 139,
   "metadata": {},
   "outputs": [],
   "source": [
    "tfidfmodel_exemplar_1659 = tfidfmodel_cal(baselistoftextlist2)\n",
    "dict_id_introdiff_exemplar_1659 = {}\n",
    "for t in dict_type_code_id:\n",
    "    for i in dict_type_code_id[t]:\n",
    "        if i in examplar:\n",
    "            continue\n",
    "        try:\n",
    "            textlist = intro_appleid[str(i)]\n",
    "            tempsim = tfidfmodel_exemplar_1659.cal_tfidf(textlist,dict_idinsim_typecode2[t])\n",
    "            tempdiff = 1-tempsim\n",
    "            dict_id_introdiff_exemplar_1659[i] = tempdiff\n",
    "        except:\n",
    "            continue"
   ]
  },
  {
   "cell_type": "code",
   "execution_count": 140,
   "metadata": {},
   "outputs": [
    {
     "data": {
      "text/plain": [
       "1356"
      ]
     },
     "execution_count": 140,
     "metadata": {},
     "output_type": "execute_result"
    }
   ],
   "source": [
    "len(dict_id_introdiff_exemplar_1659)"
   ]
  },
  {
   "cell_type": "code",
   "execution_count": 141,
   "metadata": {},
   "outputs": [],
   "source": [
    "# # 保存一下id与战略差异的对应关系\n",
    "# save_joblib(dict_id_introdiff_exemplar_1659,os.path.join(datapath,'dict_id_introdiff_exemplar_1659'))"
   ]
  },
  {
   "cell_type": "code",
   "execution_count": 142,
   "metadata": {},
   "outputs": [],
   "source": [
    "df_introdiff_exemplar = pd.DataFrame({'appleid':[k for k in dict_id_introdiff_exemplar_1659],'introdiff':[dict_id_introdiff_exemplar_1659[k] for k in dict_id_introdiff_exemplar_1659]})"
   ]
  },
  {
   "cell_type": "code",
   "execution_count": 143,
   "metadata": {},
   "outputs": [
    {
     "name": "stdout",
     "output_type": "stream",
     "text": [
      "introdiff_exemplar_sample_1659 exits\n"
     ]
    }
   ],
   "source": [
    "# 存到数据库\n",
    "try:\n",
    "    c2.execute('''create table introdiff_exemplar_sample_1659\n",
    "    (appleid integer primary key,\n",
    "    introdiff numeric)''')\n",
    "    conn2.commit()\n",
    "    print('introdiff_exemplar_sample_1659 create')\n",
    "except:\n",
    "    print('introdiff_exemplar_sample_1659 exits')"
   ]
  },
  {
   "cell_type": "code",
   "execution_count": 144,
   "metadata": {},
   "outputs": [
    {
     "name": "stdout",
     "output_type": "stream",
     "text": [
      "error: 838193156\n",
      "error: 1054990344\n",
      "error: 1156925449\n",
      "error: 791111694\n",
      "error: 668416040\n",
      "error: 1127493677\n",
      "error: 890351673\n",
      "error: 919107645\n",
      "error: 476553281\n",
      "error: 949852244\n",
      "error: 1050628187\n",
      "error: 1012279413\n",
      "error: 1078814844\n",
      "error: 550971517\n",
      "error: 1183311998\n",
      "error: 1127231617\n",
      "error: 1187823762\n",
      "error: 992051355\n",
      "error: 1214802095\n",
      "error: 866945218\n",
      "error: 1110646984\n",
      "error: 639486670\n",
      "error: 867991770\n",
      "error: 1186568412\n",
      "error: 522008813\n",
      "error: 580765736\n",
      "error: 469027061\n",
      "error: 909351158\n",
      "error: 868692227\n",
      "error: 1049657606\n",
      "error: 1191422216\n",
      "error: 670873866\n",
      "error: 954250967\n",
      "error: 909566221\n",
      "error: 1339597086\n",
      "error: 1214783879\n",
      "error: 1176160569\n",
      "error: 824318267\n",
      "error: 646640353\n",
      "error: 1136667579\n",
      "error: 1140037349\n",
      "error: 952174948\n",
      "error: 467577200\n",
      "error: 491231653\n",
      "error: 1264560589\n",
      "error: 1108822480\n",
      "error: 462199252\n",
      "error: 1055699417\n",
      "error: 1024000488\n",
      "error: 1002265066\n",
      "error: 1250378276\n",
      "error: 1105855019\n",
      "error: 1072159281\n",
      "error: 1297871425\n",
      "error: 1066748491\n",
      "error: 1049234005\n",
      "error: 473502311\n",
      "error: 958022253\n",
      "error: 1216510397\n",
      "error: 561416817\n",
      "error: 904209012\n",
      "error: 1097738917\n",
      "error: 1131504295\n",
      "error: 1121690304\n",
      "error: 1137519298\n",
      "error: 1149004509\n",
      "error: 1042336481\n",
      "error: 792638268\n",
      "error: 876290893\n",
      "error: 1137900371\n",
      "error: 1243986797\n",
      "error: 534477679\n",
      "error: 1001050992\n",
      "error: 530445196\n",
      "error: 1059976078\n",
      "error: 609405853\n",
      "error: 1025692584\n",
      "error: 538411946\n",
      "error: 1058370552\n",
      "error: 1091224574\n",
      "error: 1011624966\n",
      "error: 561941526\n",
      "error: 1055714329\n",
      "error: 1116609570\n",
      "error: 1229560873\n",
      "error: 1230337086\n",
      "error: 550067264\n",
      "error: 1152308318\n",
      "error: 703327328\n",
      "error: 1195660403\n",
      "error: 572907035\n",
      "error: 960224427\n",
      "error: 448859328\n",
      "error: 1263731905\n",
      "error: 1286583499\n",
      "error: 1061907653\n",
      "error: 987360477\n",
      "error: 1166062820\n",
      "error: 549432607\n",
      "error: 732319042\n",
      "error: 432080204\n",
      "error: 1373739355\n",
      "error: 955454846\n",
      "error: 1080636823\n",
      "error: 1271690674\n",
      "error: 1073305016\n",
      "error: 506627515\n",
      "error: 651978174\n",
      "error: 1087794628\n",
      "error: 1103655502\n",
      "error: 580437470\n",
      "error: 994120614\n",
      "error: 583222866\n",
      "error: 1113415175\n",
      "error: 1256404497\n",
      "error: 922394137\n",
      "error: 893521440\n",
      "error: 1249943101\n",
      "error: 1258524226\n",
      "error: 1135427154\n",
      "error: 660928091\n",
      "error: 1108404155\n",
      "error: 1159035153\n",
      "error: 951553660\n",
      "error: 1170452095\n",
      "error: 714796093\n",
      "error: 1096023984\n",
      "error: 563443400\n",
      "error: 998955963\n",
      "error: 1165289168\n",
      "error: 1233981151\n",
      "error: 1070180064\n",
      "error: 578248193\n",
      "error: 505415448\n",
      "error: 959619034\n",
      "error: 1252933406\n",
      "error: 1017186083\n",
      "error: 680488741\n",
      "error: 744851208\n",
      "error: 814323051\n",
      "error: 901858272\n",
      "error: 586889063\n",
      "error: 1189578604\n",
      "error: 1220276081\n",
      "error: 569632660\n",
      "error: 1221314457\n",
      "error: 786857884\n",
      "error: 1072998335\n",
      "error: 933132233\n",
      "error: 652077009\n",
      "error: 1232482275\n",
      "error: 967874533\n",
      "error: 496009190\n",
      "error: 838162410\n",
      "error: 1052080108\n"
     ]
    }
   ],
   "source": [
    "for k,v in dict_id_introdiff_exemplar_1659.items():\n",
    "    temp = (k,v)\n",
    "    try:\n",
    "        c2.execute('insert into introdiff_exemplar_sample_1659 values (?,?)',temp)\n",
    "        conn2.commit()\n",
    "    except:\n",
    "        print('error: {}'.format(k))"
   ]
  },
  {
   "cell_type": "code",
   "execution_count": 145,
   "metadata": {},
   "outputs": [],
   "source": [
    "# 存到文档\n",
    "# df_introdiff_exemplar.to_csv(os.path.join(datapath,'introdiff_exemplar_sample_1659.csv'))"
   ]
  },
  {
   "cell_type": "code",
   "execution_count": 146,
   "metadata": {},
   "outputs": [],
   "source": [
    "df_introdiff_exemplar.rename(columns = {'introdiff':'introdiff_e'},inplace = True)"
   ]
  },
  {
   "cell_type": "code",
   "execution_count": 147,
   "metadata": {},
   "outputs": [],
   "source": [
    "bs_diff_up2 = bs_diff_up.merge(df_introdiff_exemplar,on = 'appleid',how = 'inner')"
   ]
  },
  {
   "cell_type": "code",
   "execution_count": 148,
   "metadata": {},
   "outputs": [],
   "source": [
    "bs_diff_up2.to_csv(os.path.join(datapath,'upload','bs_diff_up.csv'))"
   ]
  },
  {
   "cell_type": "code",
   "execution_count": null,
   "metadata": {},
   "outputs": [],
   "source": []
  }
 ],
 "metadata": {
  "kernelspec": {
   "display_name": "Python 3",
   "language": "python",
   "name": "python3"
  },
  "language_info": {
   "codemirror_mode": {
    "name": "ipython",
    "version": 3
   },
   "file_extension": ".py",
   "mimetype": "text/x-python",
   "name": "python",
   "nbconvert_exporter": "python",
   "pygments_lexer": "ipython3",
   "version": "3.5.2"
  }
 },
 "nbformat": 4,
 "nbformat_minor": 2
}
